{
 "cells": [
  {
   "cell_type": "markdown",
   "metadata": {},
   "source": [
    "# 95-865 Fall 2018 Quiz"
   ]
  },
  {
   "cell_type": "markdown",
   "metadata": {},
   "source": [
    "Your name:\n",
    "\n",
    "Your Andrew ID:"
   ]
  },
  {
   "cell_type": "markdown",
   "metadata": {},
   "source": [
    "There are two problems. The first problem is mainly about making sure you can code up various things from the first half of 95-865. The second problem is more conceptual: we give you intermediate outputs of some analyses that we have done on a particular dataset, and ask you to answer some follow-up questions."
   ]
  },
  {
   "cell_type": "code",
   "execution_count": 1,
   "metadata": {},
   "outputs": [],
   "source": [
    "# DO NOT MODIFY THIS BLOCK (BUT YOU SHOULD RUN THIS FIRST)\n",
    "\n",
    "import numpy as np\n",
    "%matplotlib inline\n",
    "import matplotlib.pyplot as plt\n",
    "plt.style.use('ggplot')"
   ]
  },
  {
   "cell_type": "markdown",
   "metadata": {},
   "source": [
    "# Problem 1 [50 points]"
   ]
  },
  {
   "cell_type": "markdown",
   "metadata": {},
   "source": [
    "**(a) [5 points]** Begin by reading in the book titles from the file `all_book_titles.txt` (which should be in the same folder as this Jupyter notebook). Complete the following tasks:\n",
    "\n",
    "   1. Read the book titles into a list of strings named `titles`.\n",
    "   2. Display the first 8 titles in your list. \n",
    "   3. Print the total number of book titles in your list.\n",
    "   "
   ]
  },
  {
   "cell_type": "code",
   "execution_count": 2,
   "metadata": {},
   "outputs": [
    {
     "name": "stdout",
     "output_type": "stream",
     "text": [
      "1 - Scholars' Guide to Washington, D. C. for East Asian Studies China, Japan, Korea, and Mongolia\n",
      "2 - Gardner's Art through the Ages: A Global History, Volume II (Book Only)\n",
      "3 - Criminology : The Core\n",
      "4 - Pharmacology for the Primary Care Provider\n",
      "5 - Calculus: Concepts and Contexts\n",
      "6 - Wars in the Woods The Rise of Ecological Forestry in America\n",
      "7 - Pharmacology for the Surgical Technologist\n",
      "8 - Essentials of Economics, 3rd Edition (The McGraw-Hill Series in Economics)\n",
      "Total number of book titles:  2373\n"
     ]
    }
   ],
   "source": [
    "# YOUR CODE HERE\n",
    "\n",
    "# --------------------------------------------------------------------------------\n",
    "# SOLUTION CODE\n",
    "#\n",
    "\n",
    "# 1. Read the book titles into a list of strings named `titles`.\n",
    "titles = [line.rstrip() for line in open('all_book_titles.txt')]\n",
    "\n",
    "# 2. Display the first 8 titles in your list.\n",
    "for i in range(8):\n",
    "    print(i+1,'-', titles[i])\n",
    "\n",
    "# 3. Print the total number of book titles in your list.\n",
    "print('Total number of book titles: ', len(titles))\n",
    "# --------------------------------------------------------------------------------"
   ]
  },
  {
   "cell_type": "markdown",
   "metadata": {},
   "source": [
    "**(b) [25 points]** Build the frequency table. Specifically, complete the following tasks:\n",
    "\n",
    "  1. Process the text by separating and lemmatizing the words.\n",
    "  2. Count the number of times each word appears in the file and build a frequency table. \n",
    "  3. Sort the table and print the top 20 most frequent words, along with their frequencies and ranks.\n",
    "  4. From results in step 3, which of those 20 words that you think could be added into stopwords for this problem? Add those new stopwords you chose, and recompute the frequency table. Plot the top 10 words in bar plots.\n",
    "  \n",
    "  \n",
    "Notes: \n",
    "* When counting the words, use raw counts as the \"frequency\". DO NOT divide by the total number of words in the file. \n",
    "* DO NOT include words (tokens) that are stopwords/punctuation/spaces/short words with length<3. \n",
    "* For stopwords, use the stopwords provided in the file `stopwords.txt` (which should be in the same folder as this Jupyter notebook).\n"
   ]
  },
  {
   "cell_type": "code",
   "execution_count": 3,
   "metadata": {},
   "outputs": [
    {
     "name": "stdout",
     "output_type": "stream",
     "text": [
      "Rank       Lemma                Raw Count\n",
      "1          edition              474\n",
      "2          introduction         242\n",
      "3          science              135\n",
      "4          history              124\n",
      "5          series               100\n",
      "6          approach             93\n",
      "7          computer             90\n",
      "8          business             90\n",
      "9          access               84\n",
      "10         biology              82\n",
      "11         theory               78\n",
      "12         card                 77\n",
      "13         art                  76\n",
      "14         analysis             74\n",
      "15         applications         73\n",
      "16         world                73\n",
      "17         human                72\n",
      "18         chemistry            70\n",
      "19         statistics           69\n",
      "20         design               68\n"
     ]
    },
    {
     "data": {
      "image/png": "[encoded data removed]",
      "text/plain": [
       "<Figure size 432x288 with 1 Axes>"
      ]
     },
     "metadata": {
      "needs_background": "light"
     },
     "output_type": "display_data"
    }
   ],
   "source": [
    "# YOUR CODE HERE\n",
    "\n",
    "# --------------------------------------------------------------------------------\n",
    "# SOLUTION CODE\n",
    "#\n",
    "\n",
    "# 1. Process the text by separating and lemmatizing the words.\n",
    "\n",
    "import spacy\n",
    "nlp = spacy.load('en')\n",
    "\n",
    "all_book_titles = ' '.join(titles)\n",
    "parsed_titles = nlp(all_book_titles)\n",
    "\n",
    "# 2. Count the number of times each word appears in the file and build a frequency table.\n",
    "\n",
    "stopwords = set(sw.rstrip() for sw in open('stopwords.txt'))\n",
    "\n",
    "from collections import Counter\n",
    "\n",
    "histogram = Counter()\n",
    "for token in parsed_titles:\n",
    "    if not (token.lemma_ in stopwords or token.pos_ == 'PUNCT' or token.pos_ == 'SPACE' or len(token)<3):\n",
    "        lemma = token.lemma_\n",
    "        histogram[lemma] += 1\n",
    "\n",
    "# 3. Sort the table and print the top 20 most frequent words, along with their frequencies and ranks.\n",
    "\n",
    "from operator import itemgetter\n",
    "\n",
    "sorted_hist = sorted(histogram.items(), reverse=True, key=itemgetter(1))\n",
    "\n",
    "print('Rank'.ljust(10), 'Lemma'.ljust(20), 'Raw Count')  \n",
    "for i in range(20):\n",
    "    print(str(i+1).ljust(10), sorted_hist[i][0].ljust(20), sorted_hist[i][1])\n",
    "\n",
    "# 4. From results in step 3, which of those 20 words that you think could be added into stopwords for this problem? \n",
    "#    Add those stopwords you chose, and recompute the frequency table. Plot the top 10 words in bar plots.\n",
    "\n",
    "stopwords = stopwords.union({'introduction', 'edition', 'series', 'approach', 'card', 'applications', 'guide',\n",
    "                             'access','analysis'})\n",
    "\n",
    "histogram = Counter()\n",
    "for token in parsed_titles:\n",
    "    if not (token.lemma_ in stopwords or token.pos_ == 'PUNCT' or token.pos_ == 'SPACE' or len(token)<3):\n",
    "        lemma = token.lemma_\n",
    "        histogram[lemma] += 1\n",
    "        \n",
    "sorted_hist = sorted(histogram.items(),reverse=True,key=itemgetter(1))\n",
    "\n",
    "\n",
    "num_top_lemmas_to_plot = 10\n",
    "\n",
    "top_lemmas = [lemma for lemma, count in sorted_hist[:num_top_lemmas_to_plot]]\n",
    "top_counts = [count for lemma, count in sorted_hist[:num_top_lemmas_to_plot]]\n",
    "plt.bar(range(num_top_lemmas_to_plot), top_counts, alpha = 0.8, color = 'orange')\n",
    "plt.xticks(range(num_top_lemmas_to_plot), top_lemmas, rotation=45)\n",
    "plt.xlabel('Lemma')\n",
    "plt.ylabel('Raw count')\n",
    "plt.show()\n",
    "\n",
    "# --------------------------------------------------------------------------------"
   ]
  },
  {
   "cell_type": "markdown",
   "metadata": {},
   "source": [
    "**(c) [20 points]** We now use k-means to cluster the book titles. The goal of this problem is to (1) choose the best `k` based on the silhouette score and (2) interpret the clustering results.\n",
    "\n",
    "\n",
    "* (1) For each k=10,30,50,...,190: cluster all the book titles (in full-dimensionality, so don't reduce dimensions!) into k clusters, and compute and print the silhouette score for this choice of k. (Note: you don't need to know the details of what the [\"silhouette score\"](http://scikit-learn.org/stable/modules/generated/sklearn.metrics.silhouette_score.html#sklearn.metrics.silhouette_score) is computing!--for the purposes of this exam, you just need to know that a higher silhouette score is better.)\n",
    "\n",
    "* (2) After you obtain the best `k`, print out the book titles in the first 5 clusters given by the best model, and interpret each cluster briefly. "
   ]
  },
  {
   "cell_type": "markdown",
   "metadata": {},
   "source": [
    "Before we cluster the book titles using k-means, we need to represent each title as a feature vector, very similar to building a histogram. We have provided this code for you. The code uses scikit-learn's `TfidfVectorizer` class, which represents each document as a feature vector. The resulting variable `X` is a 2-D numpy array, and has rows corresponding to book titles, and columns corresponding to different words. For the purposes of this quiz, you do *not* have to worry about how this works. Just treat `X` as a 2D numpy array where rows are feature vectors."
   ]
  },
  {
   "cell_type": "code",
   "execution_count": 4,
   "metadata": {},
   "outputs": [
    {
     "name": "stdout",
     "output_type": "stream",
     "text": [
      "(2373, 291)\n"
     ]
    }
   ],
   "source": [
    "# DO NOT MODIFY CODE IN THIS CELL\n",
    "\n",
    "# If your code above works correctly, then running this cell should result\n",
    "# in the variable `X` being a 2D numpy array with shape (2373, 291)\n",
    "\n",
    "from sklearn.feature_extraction.text import TfidfVectorizer\n",
    "\n",
    "vectorizer = TfidfVectorizer(min_df=10, max_df=0.8)\n",
    "X = vectorizer.fit_transform(titles)  # This is stored as a sparse array, so as to save memory\n",
    "\n",
    "print(X.shape) # The output should be (2373, 291)"
   ]
  },
  {
   "cell_type": "code",
   "execution_count": 5,
   "metadata": {},
   "outputs": [
    {
     "name": "stdout",
     "output_type": "stream",
     "text": [
      "k = 10 has silhouette score 0.03434872318500003\n",
      "k = 30 has silhouette score 0.08840375470392685\n",
      "k = 50 has silhouette score 0.11858151189963977\n",
      "k = 70 has silhouette score 0.14357053264755026\n",
      "k = 90 has silhouette score 0.1544716544678398\n",
      "k = 110 has silhouette score 0.16009772484424475\n",
      "k = 130 has silhouette score 0.15528666680271633\n",
      "k = 150 has silhouette score 0.14333040321465973\n",
      "k = 170 has silhouette score 0.15512237523940176\n",
      "k = 190 has silhouette score 0.15132152629209802\n",
      "\n",
      "Best k = 110 according to silhouette score\n",
      "\n",
      "Cluster 1 :\n",
      "Pharmacology for the Primary Care Provider\n",
      "Pharmacology for the Surgical Technologist\n",
      "Core Concepts in Pharmacology (3rd Edition) (MyNursingKit Series)\n",
      "Study Guide for Pharmacology for Nursing Care, 8e\n",
      "Pharmacology : Principles and Applications\n",
      "Principles of Pharmacology\n",
      "Essentials of Pharmacology for Health Occupations\n",
      "Applied Pharmacology for the Dental Hygienist\n",
      "Basic and Clinical Pharmacology 12/E (LANGE Basic Science)\n",
      "Pharmacology: A Patient-Centered Nursing Process Approach, 8e (Kee, Pharmacology)\n",
      "Pharmacology for Nursing Care\n",
      "Pharmacology: Connections to Nursing Practice (2nd Edition)\n",
      "Basic Pharmacology for Nurses, 16e\n",
      "Introduction to Clinical Pharmacology\n",
      "Pharmacology and the Nursing Process, 7e (Lilley, Pharmacology and the Nursing Process)\n",
      "Pharmacology : A Nursing Process Approach\n",
      "Understanding Pharmacology for Health Professions\n",
      "Focus on Nursing Pharmacology Pb\n",
      "Lippincott's Illustrated Reviews: Pharmacology (Lippincott's Illustrated Reviews Series)\n",
      "Pharmacology for Nurses : A Pathophysiologic Approach\n",
      "Rang & Dale's Pharmacology: with STUDENT CONSULT Online Access\n",
      "Principles of Pharmacology for Medical Assisting\n",
      "Study Guide for Pharmacology: A Patient-Centered Nursing Process Approach, 8e\n",
      "Pharmacology for Health Professionals\n",
      "\n",
      "Cluster 2 :\n",
      "Computer Science: A Structured Approach Using C\n",
      "Art & Science of Java An Introduction to Computer Science\n",
      "Physical Science\n",
      "Mathematical Structures for Computer Science A Modern Approach to Discrete Mathematics\n",
      "Environmental Science\n",
      "Psychological Science (Fourth Edition)\n",
      "Environmental Science: Toward a Sustainable Future (12th Edition)\n",
      "Algorithms on Strings, Trees, and Sequences Computer Science and Computational Biology\n",
      "Concrete Mathematics A Foundation for Computer Science\n",
      "Linear Algebra and Probability for Computer Science Applications\n",
      "Acsm Introduction Exercise Science\n",
      "Conceptual Physical Science (5th Edition)\n",
      "Guide to Computer Forensics and Investigations\n",
      "Python Programming : An Introduction to Computer Science\n",
      "Computer Science : An Overview\n",
      "Quantum Computer Science\n",
      "Invitation to Computer Science\n",
      "Languages and Machines: An Introduction to the Theory of Computer Science (3rd Edition)\n",
      "Logic in Computer Science Modelling and Reasoning About Systems\n",
      "Connecting with Computer Science\n",
      "Psychological Science\n",
      "Balanced Introduction to Computer Science, A (3rd Edition)\n",
      "Computer Science : An Overview\n",
      "Computer Science Illuminated\n",
      "Biological Science\n",
      "Introduction to Programming Using Visual Basic 2010 (8th Edition) (Pearson Custom Computer Science)\n",
      "Digital Evidence and Computer Crime, Third Edition: Forensic Science, Computers, and the Internet\n",
      "Fundamentals of Java Ap Computer Science Essentials\n",
      "Computer Forensics and Cyber Crime: An Introduction (3rd Edition)\n",
      "\n",
      "Cluster 3 :\n",
      "Thermodynamics for Engineers\n",
      "Applied Statistics and Probability for Engineers\n",
      "Vector Mechanics for Engineers: Dynamics\n",
      "Miller & Freund's Probability and Statistics for Engineers (8th Edition)\n",
      "Fluid Mechanics for Chemical Engineers\n",
      "Quantum Mechanics for Scientists and Engineers\n",
      "Vector Mechanics for Engineers: Statics and Dynamics\n",
      "Probability, Statistics, and Reliability for Engineers and Scientists\n",
      "Probability and Statistics for Engineers and Scientists (9th Edition)\n",
      "Vector Mechanics for Engineers: Statics\n",
      "MATLAB Programming with Applications for Engineers\n",
      "Applied Statistics and Probability for Engineers\n",
      "Probability and Statistics for Engineers\n",
      "MATLAB Programming for Engineers\n",
      "Essentials of Probability & Statistics for Engineers & Scientists\n",
      "Chaos and Nonlinear Dynamics An Introduction for Scientists and Engineers\n",
      "Physics for Scientists And Engineers Chaps 1-38\n",
      "Introduction to Probability and Statistics for Engineers and Scientists, Fourth Edition\n",
      "Plant Design and Economics for Chemical Engineers\n",
      "Probability and Statistics for Engineers and Scientists\n",
      "Calculus for Scientists and Engineers\n",
      "\n",
      "Cluster 4 :\n",
      "VBA for Modelers: Developing Decision Support Systems (with Microsoft Office Excel Printed Access Card)\n",
      "Differential Equations (with DE Tools Printed Access Card)\n",
      "GEOL (with Earth Science CourseMate with eBook Printed Access Card)\n",
      "Nutrition and Diet Therapy with Premium Website Printed Access Card and Studyware\n",
      "Statistics for Business and Economics (with Printed Access Card)\n",
      "Elementary Statistics, Brief with Data CD and Formula Card\n",
      "Calculus : Early Transcendentals, Hybrid Edition (with Enhanced WebAssign with eBook Printed Access Card for Multi Term Math and Science)\n",
      "Research Methods in Political Science (with MicroCase Printed Access Card)\n",
      "PFIN3 (with Finance CourseMate and EBook Printed Access Card)\n",
      "Essentials of Statistics for Business and Economics, Revised (with Printed Access Card)\n",
      "Elementary Statistics with CD : A Step by Step Approach with Formula Card and Data Cd\n",
      "Data Analysis and Decision Making (with Printed Access Card)\n",
      "Microeconomic Theory : Basic Principles and Extensions (with Economic Applications, InfoTracï¿½ Printed Access Card)\n",
      "Gardner's Art Through the Ages: A Concise Global History (with Arts CourseMate Printed Access Card)\n",
      "TX. GOV (with Political Science CourseMate with EBook Printed Access Card)\n",
      "Practical Management Science (with Decision Sciences CourseMate Printed Access Card)\n",
      "Statistics for Management and Economics (with Online Content Printed Access Card)\n",
      "Elementary Statistics : A Step by Step Approach with Formula Card\n",
      "MKTG (with Marketing CourseMate with EBook and Career Transitions Printed Access Card)\n",
      "Database Systems: Design, Implementation, and Management (with Bind-In Printed Access Card)\n",
      "Fundamentals of Financial Management, Concise Edition (with Thomson ONE - Business School Edition 6-Month Printed Access Card)\n",
      "Economics and Contemporary Issues (with Economic Applications and InfoTrac 2-Semester Printed Access Card)\n",
      "Understanding Health Insurance : A Guide to Billing and Reimbursement (with Cengage EncoderPro. com Demo Printed Access Card)\n",
      "Gardner's Art through the Ages: A Global History, Volume II (with CourseMate Printed Access Card)\n",
      "GOVT (with Political Science CourseMate with EBook Printed Access Card)\n",
      "Essentials of Marketing Research (with Qualtrics Printed Access Card)\n",
      "\n",
      "Cluster 5 :\n",
      "Differential Equations Computing and Modeling\n",
      "Differential Equations & Linear Algebra\n",
      "Differential Equations\n",
      "Differential Equations and Linear Algebra\n",
      "First Course in Differential Equations\n",
      "Differential Equations, Dynamical Systems, and an Introduction to Chaos, Third Edition\n",
      "First Course in Differential Equations The Classics\n",
      "Differential Equations And Linear Algebra\n",
      "A First Course in Differential Equations with Modeling Applications\n",
      "Fundamentals of Differential Equations (8th Edition)\n",
      "Differential Equations for Engineers and Scientists\n",
      "\n"
     ]
    }
   ],
   "source": [
    "# YOUR CODE HERE\n",
    "\n",
    "# --------------------------------------------------------------------------------\n",
    "# SOLUTION CODE\n",
    "#\n",
    "\n",
    "from sklearn.cluster import KMeans\n",
    "from sklearn.metrics import silhouette_score\n",
    "\n",
    "best_k = None\n",
    "best_labels = None\n",
    "best_score = -1\n",
    "best_model = None\n",
    "\n",
    "for k in range(10, 200, 20):\n",
    "    \n",
    "    kmeans = KMeans(n_clusters = k, random_state = 95865)\n",
    "    kmeans.fit(X)\n",
    "    \n",
    "    labels = kmeans.labels_\n",
    "    score = silhouette_score(X, labels)\n",
    "    print('k =', k, 'has silhouette score', score)\n",
    "    \n",
    "    if score > best_score:\n",
    "        best_score = score\n",
    "        best_k = k\n",
    "        best_model = kmeans\n",
    "        best_labels = labels\n",
    "\n",
    "print()\n",
    "print(\"Best k = \" + str(best_k), 'according to silhouette score')\n",
    "print()\n",
    "\n",
    "clusters = []\n",
    "\n",
    "for k in range(5):\n",
    "    cl = [i for idx,i in enumerate(titles) if best_labels[idx]==k]\n",
    "    clusters.append(cl)\n",
    "    \n",
    "for c in range(5):\n",
    "    print('Cluster', (c+1), ':')  \n",
    "    for bk in range(len(clusters[c])):\n",
    "        print(clusters[c][bk])\n",
    "    print()\n",
    "# --------------------------------------------------------------------------------"
   ]
  },
  {
   "cell_type": "markdown",
   "metadata": {},
   "source": [
    "**Please write down your interpretation of the clusters**: SOLUTION - Cluster 1 appears to be on pharmacology, cluster 3 on books for engineers, and cluster 5 on differential equations. Cluster 2 is a bit muddled: there are both a bunch of computer science titles as well as other science titles (e.g., \"Environmental Science\", \"Biological Science\", \"Psychological Science\"). Cluster 5 appears to be a hodgepodge of titles, many of which appear quite unrelated spanning technical subject matter, art, and humanities."
   ]
  },
  {
   "cell_type": "markdown",
   "metadata": {},
   "source": [
    "# Problem 2 [50 points]\n",
    "\n",
    "In this problem, we examine part of the Fashion MNIST dataset by Zalando Research. In particular, we look at 10,000 images, each 28 pixels by 28 pixels, where each image is of one of the following 10 items:\n",
    "\n",
    "- T-shirt/top (encoded by the integer 0)\n",
    "- Trouser (encoded by the integer 1)\n",
    "- Pullover (2)\n",
    "- Dress (3)\n",
    "- Coat (4)\n",
    "- Sandal (5)\n",
    "- Shirt (6)\n",
    "- Sneaker (7)\n",
    "- Bag (8)\n",
    "- Ankle boot (9)\n",
    "\n",
    "We are intentionally *not* giving you the raw images. Instead, we provide you with some intermediate results from some analyses we have already done, and we ask you some follow-up questions.\n",
    "\n",
    "In what follows, assume the following: each image is represented as a 784-dimensional feature vector (corresponding to flattening the image's raw grayscale pixels to go from an 28 by 28 image). For each feature vector, each feature is stored as a value between 0 (black) and 1 (white). Below is a plot of many example images from the Fashion MNIST dataset:\n",
    "\n",
    "![Fashion MNIST examples](./fashion-mnist-sprite.png)"
   ]
  },
  {
   "cell_type": "markdown",
   "metadata": {},
   "source": [
    "**(a) [5 points]** We ran PCA and got the following plot:\n",
    "\n",
    "![PCA plot](./Fall2018_quiz_PCA.png)\n",
    "\n",
    "Note that the horizontal axis corresponds to the first principal component, and the vertical axis corresponds to the second principal component. The explained variance ratio for the first and second principal components are 0.2902809 and 0.17902619, respectively."
   ]
  },
  {
   "cell_type": "markdown",
   "metadata": {},
   "source": [
    "Even though the explained variance ratios are quite low, your friend Alice says that actually PCA is not too bad if you're mainly concerned about distinguishing between images that are of sneakers/sandals vs those that are not, and moreover you don't care about trying to tell apart sneakers from sandals. In fact, she says that even just using PCA with 1 dimension is fine. Why might Alice say this?"
   ]
  },
  {
   "cell_type": "markdown",
   "metadata": {},
   "source": [
    "**Your answer here (no code is needed for this answer):** SOLUTION - Just using the first principal component value (let's call this $z$), we see that sneakers/sandals correspond roughly to $z$ being less than about -3.5 or so, and the other images correspond to when $z$ is larger."
   ]
  },
  {
   "cell_type": "markdown",
   "metadata": {},
   "source": [
    "**(b) [10 points]** We have provided the weights for the first two PCA components below, along with the feature vectors of 10 images. We have also provided a mean offset vector. Compute the low-dimensional PCA representation of these 10 images *using the weights provided*, where as a preprocessing step, *be sure to subtract the mean offset vector from each feature vector*."
   ]
  },
  {
   "cell_type": "code",
   "execution_count": 6,
   "metadata": {},
   "outputs": [],
   "source": [
    "# DO NOT MODIFY THIS CELL\n",
    "\n",
    "weights_for_first_principal_component = np.loadtxt('Fall2018_quiz_PCA_weights_1.txt')\n",
    "weights_for_second_principal_component = np.loadtxt('Fall2018_quiz_PCA_weights_2.txt')\n",
    "mean_offset_vector = np.loadtxt('Fall2018_quiz_PCA_mean_offset.txt')\n",
    "ten_feature_vectors = np.loadtxt('Fall2018_quiz_PCA_ten_feature_vectors.txt')"
   ]
  },
  {
   "cell_type": "code",
   "execution_count": 7,
   "metadata": {},
   "outputs": [
    {
     "name": "stdout",
     "output_type": "stream",
     "text": [
      "[[ 5.4590781  -1.30941671]\n",
      " [-0.15553542 -6.13815182]\n",
      " [-3.25027977 -0.56589659]\n",
      " [ 3.07398627  0.83821225]\n",
      " [ 1.03865001 -3.78438213]\n",
      " [-0.69872836 -0.02718894]\n",
      " [-0.02365169  6.77955801]\n",
      " [ 1.09304693 -0.29477232]\n",
      " [-5.715559   -0.62636351]\n",
      " [-0.54474717 -3.37477831]]\n"
     ]
    }
   ],
   "source": [
    "low_dimensional_vectors = np.zeros((10, 2))  # for you to fill out\n",
    "\n",
    "# YOUR CODE GOES HERE THAT COMPUTES THE LOW DIMENSIONAL REPRESENTATION OF THE TEN FEATURE VECTORS\n",
    "\n",
    "# --------------------------------------------------------------------------------\n",
    "# SOLUTION CODE\n",
    "#\n",
    "for row_idx, feature_vector in enumerate(ten_feature_vectors):\n",
    "    feature_vector_mean_subtracted = feature_vector - mean_offset_vector\n",
    "    low_dimensional_vectors[row_idx, 0] = np.inner(weights_for_first_principal_component,\n",
    "                                                   feature_vector_mean_subtracted)\n",
    "    low_dimensional_vectors[row_idx, 1] = np.inner(weights_for_second_principal_component,\n",
    "                                                   feature_vector_mean_subtracted)\n",
    "# --------------------------------------------------------------------------------\n",
    "\n",
    "\n",
    "print(low_dimensional_vectors)"
   ]
  },
  {
   "cell_type": "markdown",
   "metadata": {},
   "source": [
    "**(c) [25 points]** We ran t-SNE and ended up with the following plot:\n",
    "\n",
    "![t-SNE image](./Fall2018_quiz_tSNE.png)\n",
    "\n",
    "Below, we provide a *subsample* of the images used to construct the above t-SNE plot, along with their low-dimensional t-SNE representations and their labels:"
   ]
  },
  {
   "cell_type": "code",
   "execution_count": 8,
   "metadata": {},
   "outputs": [],
   "source": [
    "# DO NOT MODIFY THIS CELL\n",
    "\n",
    "image_vectors = np.loadtxt('Fall2018_quiz_subsample_image_vectors.txt')\n",
    "tsne_vectors = np.loadtxt('Fall2018_quiz_subsample_tsne_vectors.txt')\n",
    "labels = np.loadtxt('Fall2018_quiz_subsample_labels.txt').astype(np.int)\n",
    "\n",
    "# the i-th row of `image_vectors` has t-SNE representation given by `tsne_vectors[i]` and has label `labels[i]`"
   ]
  },
  {
   "cell_type": "markdown",
   "metadata": {},
   "source": [
    "From looking at the t-SNE plot, your friend Bob wants to know why coats and pullovers overlap so much in the plot. He wonders whether the two types of clothing are just really hard to tell apart. You decide to help Bob answer this question.\n",
    "\n",
    "Using the above subset of images (in the previous cell), write code that completes the following tasks:\n",
    "\n",
    "1. Compute the mean 2D coordinate of the low-dimensional t-SNE representations of images corresponding to coats (using the known labels)\n",
    "2. Find the coat image with t-SNE representation closest (in Euclidean distance) to the mean computed in step 1; plot this coat image as a 28-by-28 pixel image using the `plt.imshow` function with attribute `cmap='gray'`\n",
    "3. Find the pullover image with t-SNE representation closest (in Euclidean distance) to the mean computed in step 1; plot this pullover image again as a 28-by-28 pixel image using `plt.imshow` with `cmap='gray'`"
   ]
  },
  {
   "cell_type": "code",
   "execution_count": 9,
   "metadata": {},
   "outputs": [
    {
     "data": {
      "text/plain": [
       "<matplotlib.image.AxesImage at 0x11e76b400>"
      ]
     },
     "execution_count": 9,
     "metadata": {},
     "output_type": "execute_result"
    },
    {
     "data": {
      "image/png": "[encoded data removed]",
      "text/plain": [
       "<Figure size 432x288 with 1 Axes>"
      ]
     },
     "metadata": {
      "needs_background": "light"
     },
     "output_type": "display_data"
    },
    {
     "data": {
      "image/png": "[encoded data removed]",
      "text/plain": [
       "<Figure size 432x288 with 1 Axes>"
      ]
     },
     "metadata": {
      "needs_background": "light"
     },
     "output_type": "display_data"
    }
   ],
   "source": [
    "# YOUR CODE HERE\n",
    "\n",
    "# --------------------------------------------------------------------------------\n",
    "# SOLUTION CODE\n",
    "#\n",
    "\n",
    "# step 1: compute mean coat t-SNE vector\n",
    "coat_mask = (labels == 4)\n",
    "coat_mean_tsne_vector = tsne_vectors[coat_mask].mean(axis=0)\n",
    "\n",
    "# step 2: find coat that has t-SNE vector closest to the mean coat t-SNE vector\n",
    "min_dist = np.inf\n",
    "arg_min = None\n",
    "for image_vector, tsne_vector in zip(image_vectors[coat_mask],\n",
    "                                     tsne_vectors[coat_mask]):\n",
    "    dist = np.linalg.norm(tsne_vector - coat_mean_tsne_vector)\n",
    "    if dist < min_dist:\n",
    "        min_dist = dist\n",
    "        arg_min = image_vector\n",
    "plt.figure()\n",
    "plt.imshow(arg_min.reshape((28, 28)), cmap='gray')\n",
    "\n",
    "# step 3: find coat that has t-SNE vector closest to the mean coat t-SNE vector\n",
    "pullover_mask = (labels == 2)\n",
    "min_dist = np.inf\n",
    "arg_min = None\n",
    "for image_vector, tsne_vector in zip(image_vectors[pullover_mask],\n",
    "                                     tsne_vectors[pullover_mask]):\n",
    "    dist = np.linalg.norm(tsne_vector - coat_mean_tsne_vector)\n",
    "    if dist < min_dist:\n",
    "        min_dist = dist\n",
    "        arg_min = image_vector\n",
    "plt.figure()\n",
    "plt.imshow(arg_min.reshape((28, 28)), cmap='gray')\n",
    "    \n",
    "# --------------------------------------------------------------------------------"
   ]
  },
  {
   "cell_type": "markdown",
   "metadata": {},
   "source": [
    "What do you notice from your images for steps 2 and 3 above?"
   ]
  },
  {
   "cell_type": "markdown",
   "metadata": {},
   "source": [
    "**Your answer here (no code is needed for this answer)**: SOLUTION - There are coats and pullovers that look quite alike indeed! This likely explains why in the t-SNE plot, the coats and pullovers have heavy overlap."
   ]
  },
  {
   "cell_type": "markdown",
   "metadata": {},
   "source": [
    "**(d) [10 points]** In class, we talked about a simple standardization technique in which we subtract off the mean of each feature value and also divide by the standard deviation. Your friend Alice says that since the images we are looking at consist of clothing articles and fashion accessories with the same backdrop in the image, dividing each feature by the standard deviation is a bad idea for preprocessing in this setting. Is she right? Why or why not?"
   ]
  },
  {
   "cell_type": "markdown",
   "metadata": {},
   "source": [
    "**Your answer here (no code is needed for this answer)**: SOLUTION - Since the images have the same backdrop, background pixels will basically all be 0. Background pixels will have standard deviation close to or exactly equal to zero! Thus, the feature standardization is a terrible idea since it will make the background pixels have feature values that get made really large! For example, if you run `np.std(image_vectors[:, 1])`, you'll get a tiny standard deviation (0.00024789773536124094) for the second pixel in the top row. By normalizing this pixel's feature values to have unit standard deviation, we are amplifying noise!"
   ]
  }
 ],
 "metadata": {
  "kernelspec": {
   "display_name": "Python 3",
   "language": "python",
   "name": "python3"
  },
  "language_info": {
   "codemirror_mode": {
    "name": "ipython",
    "version": 3
   },
   "file_extension": ".py",
   "mimetype": "text/x-python",
   "name": "python",
   "nbconvert_exporter": "python",
   "pygments_lexer": "ipython3",
   "version": "3.6.6"
  }
 },
 "nbformat": 4,
 "nbformat_minor": 2
}
