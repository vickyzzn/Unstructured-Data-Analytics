{
 "cells": [
  {
   "cell_type": "markdown",
   "metadata": {},
   "source": [
    "## Problem: Visualizing and Summarizing Email Content\n",
    "\n",
    "In this problem, we will use a variety of tools to visualize and identify similarities in emails.  We will consider textual data from emails sent from employees at Enron. Enron was the sixth largest energy company in the world, before they collasped and the majority of their executives were tried for fraud after overstating the company's earnings by several hundred million dollars.  This dataset is often used by researchers who are interested in \"improving current email tools, or understanding how email is currently used\" because \"it is the only substantial collection of \"real\" email that is public\" (https://www.cs.cmu.edu/~enron/). \n",
    "\n",
    " #### Data Description:\n",
    "The format of the enron_sample.txt file is: \n",
    "\n",
    "---\n",
    "docID wordID count  \n",
    "docID wordID count   \n",
    "...  \n",
    "docID wordID count   \n",
    "docID wordID count  \n",
    "\n",
    "---\n",
    "\n",
    "There are 1000 documents (emails) in this sample.  Individual document names (i.e. a identifier for each docID) are not provided for copyright reasons. \n",
    "\n",
    "The format of the enron_sample_vocab.txt file is wordID = n.  That is, if \"apple\" is the first word in the vocab.enron.txt file, then the wordID for \"apple\" is 0.  \n",
    "\n",
    "We have done much of the necessary pre-processing of this data to save you time.  Please run the code below to load the data.  The enron_sample.txt and enron_sample_vocab.txt files should be in the same folder as your notebook.  The code should run in about 1 minute."
   ]
  },
  {
   "cell_type": "code",
   "execution_count": 1,
   "metadata": {},
   "outputs": [
    {
     "name": "stdout",
     "output_type": "stream",
     "text": [
      "Wall time: 8.68 s\n"
     ]
    }
   ],
   "source": [
    "%%time\n",
    "#Import and pre-process the data\n",
    "import numpy as np\n",
    "%matplotlib inline\n",
    "import matplotlib.pyplot as plt\n",
    "plt.style.use('ggplot')\n",
    "\n",
    "#Read in the sparse matrix representation of the document-word count matrix\n",
    "enron_file = open(\"enron_sample.txt\", \"r\") \n",
    "enron_file = enron_file.readlines()\n",
    "\n",
    "all_doc_ids = []\n",
    "all_word_ids = []\n",
    "all_counts = []\n",
    "for l in range(0,len(enron_file)):\n",
    "    l_text = enron_file[l].rstrip()\n",
    "    [l_doc, l_word, l_count] = l_text.split(\",\")\n",
    "    l_doc = int(l_doc) \n",
    "    l_word = int(l_word) \n",
    "    all_doc_ids.append(l_doc)\n",
    "    all_word_ids.append(l_word)\n",
    "    all_counts.append(int(l_count))\n",
    "row = np.array(all_doc_ids)\n",
    "col = np.array(all_word_ids)\n",
    "counts = np.array(all_counts)  \n",
    "\n",
    "num_documents = len(set(all_doc_ids))\n",
    "num_words = len(set(all_word_ids))\n",
    "\n",
    "#Convert to a dense document-word count matrix where the (ith, jth) entry gives the count of the jth word in the ith document\n",
    "import scipy.sparse\n",
    "X = scipy.sparse.csc_matrix((counts, (row,col)),shape=(num_documents,num_words))\n",
    "X_dense = X.todense()\n",
    "\n",
    "#Read in the word names  \n",
    "word_names = open(\"enron_vocab_sample.txt\", \"r\")\n",
    "word_names = word_names.readlines()\n",
    "word_names = [word_names[x] for x in range(0,num_words)]\n",
    "word_names = [x.rstrip() for x in word_names]"
   ]
  },
  {
   "cell_type": "code",
   "execution_count": 2,
   "metadata": {},
   "outputs": [
    {
     "name": "stdout",
     "output_type": "stream",
     "text": [
      "Wall time: 257 ms\n"
     ]
    }
   ],
   "source": [
    "%%time\n",
    "#Import and pre-process the data\n",
    "import numpy as np\n",
    "%matplotlib inline\n",
    "import matplotlib.pyplot as plt\n",
    "plt.style.use('ggplot')\n",
    "\n",
    "#Read in the sparse matrix representation of the document-word count matrix\n",
    "enron_file = open(\"enron_sample.txt\", \"r\") \n",
    "enron_file = enron_file.readlines()\n",
    "\n",
    "all_doc_ids = []\n",
    "all_word_ids = []\n",
    "all_counts = []\n",
    "for l in range(0,len(enron_file)):\n",
    "    l_text = enron_file[l].rstrip()\n",
    "    [l_doc, l_word, l_count] = l_text.split(\",\")\n",
    "    l_doc = int(l_doc) \n",
    "    l_word = int(l_word) \n",
    "    all_doc_ids.append(l_doc)\n",
    "    all_word_ids.append(l_word)\n",
    "    all_counts.append(int(l_count))\n",
    "row = np.array(all_doc_ids)\n",
    "col = np.array(all_word_ids)\n",
    "counts = np.array(all_counts)  \n",
    "\n",
    "num_documents = len(set(all_doc_ids))\n",
    "num_words = len(set(all_word_ids))\n",
    "\n",
    "#Convert to a dense document-word count matrix where the (ith, jth) entry gives the count of the jth word in the ith document\n",
    "import scipy.sparse\n",
    "X = scipy.sparse.csc_matrix((counts, (row,col)),shape=(num_documents,num_words))\n",
    "X_dense = X.todense()\n",
    "\n",
    "#Read in the word names  \n",
    "word_names = open(\"enron_vocab_sample.txt\", \"r\")\n",
    "word_names = word_names.readlines()\n",
    "word_names = [word_names[x] for x in range(0,num_words)]\n",
    "word_names = [x.rstrip() for x in word_names]"
   ]
  },
  {
   "cell_type": "markdown",
   "metadata": {},
   "source": [
    "### Part A\n",
    "Please report the 10 most common words in the corpus.  To do this, count the number of times\n",
    "each word appears in the corpus and build a frequency table. \n",
    "(In particular, use counts as the \"frequency\"--do not divide by the total number of words in the corpus.)\n",
    "Sort the table and print the top 10 most frequent words, along with their frequencies and ranks.  \n",
    "\n",
    "Hint: You do not need to load nlp for this question.  Our code for this question ran in less than 10 seconds."
   ]
  },
  {
   "cell_type": "code",
   "execution_count": 3,
   "metadata": {},
   "outputs": [
    {
     "name": "stdout",
     "output_type": "stream",
     "text": [
      "Rank  Word       Count\n",
      "1     company    936\n",
      "2     power      924\n",
      "3     energy     578\n",
      "4     market     571\n",
      "5     california 540\n",
      "6     business   462\n",
      "7     firm       443\n",
      "8     plan       431\n",
      "9     group      413\n",
      "10    price      411\n",
      "Wall time: 18 ms\n"
     ]
    }
   ],
   "source": [
    "%%time\n",
    "#Get counts\n",
    "word_counts_unsorted_raw = np.sum(X_dense, axis=0)\n",
    "word_counts_unsorted = word_counts_unsorted_raw.tolist()[0]\n",
    "\n",
    "# compute the indices that would sort the list `word_counts_unsorted` in decreasing order (which is why there's a \"::-1\")\n",
    "word_count_sort_indices = np.argsort(word_counts_unsorted)[::-1]\n",
    "\n",
    "print('Rank'.ljust(5), 'Word'.ljust(10), 'Count')\n",
    "for rank, idx in enumerate(word_count_sort_indices[:10]):\n",
    "    print(str(rank + 1).ljust(5), word_names[idx].ljust(10), word_counts_unsorted[idx])"
   ]
  },
  {
   "cell_type": "markdown",
   "metadata": {},
   "source": [
    "### Part B\n",
    "Now, use the `TfidfTransformer` class in `scikit-learn` to transform this data.  Then, use the `LatentDirichletAllocation` class in `scikit-learn` to fit 10 topics to the transformed sample data.  Use 10 max iterations, set `n_jobs=-1` to use all cores on your machine (if it helps). Please set the random_state to 95865 when running LDA. Print the top 5 words associated with each topic.  \n",
    "\n",
    "Our code ran in less than 2 minutes for this section.   "
   ]
  },
  {
   "cell_type": "code",
   "execution_count": 4,
   "metadata": {},
   "outputs": [
    {
     "name": "stdout",
     "output_type": "stream",
     "text": [
      "Topic #0: \n",
      "\tbuycom\n",
      "\tprice\n",
      "\tmeeting\n",
      "\tsubcommittee\n",
      "\tfloor\n",
      "\n",
      "Topic #1: \n",
      "\tmeeting\n",
      "\tattached\n",
      "\tpower\n",
      "\tmarket\n",
      "\tteam\n",
      "\n",
      "Topic #2: \n",
      "\tthink\n",
      "\titem\n",
      "\ttomorrow\n",
      "\trelease\n",
      "\tbrian\n",
      "\n",
      "Topic #3: \n",
      "\tnbsk\n",
      "\tfoex\n",
      "\tlincoln\n",
      "\tkazakhstan\n",
      "\tbhkp\n",
      "\n",
      "Topic #4: \n",
      "\tstatus\n",
      "\tamount\n",
      "\treport\n",
      "\tchanged\n",
      "\texpense\n",
      "\n",
      "Topic #5: \n",
      "\tgame\n",
      "\tbass\n",
      "\tfantasy\n",
      "\tlonghorn\n",
      "\tmsn\n",
      "\n",
      "Topic #6: \n",
      "\timageimage\n",
      "\tbikes\n",
      "\timageimageimage\n",
      "\tunsolicited\n",
      "\topt\n",
      "\n",
      "Topic #7: \n",
      "\thourahead\n",
      "\tfinal\n",
      "\tvariances\n",
      "\tdetected\n",
      "\tparsing\n",
      "\n",
      "Topic #8: \n",
      "\tlawyer\n",
      "\tmonitor\n",
      "\tattaching\n",
      "\tunit\n",
      "\tprofit\n",
      "\n",
      "Topic #9: \n",
      "\tclothes\n",
      "\taccessories\n",
      "\tloving\n",
      "\tskiing\n",
      "\tpolite\n",
      "\n",
      "Wall time: 23.2 s\n"
     ]
    }
   ],
   "source": [
    "%%time\n",
    "\n",
    "#Create tf-idf matrix\n",
    "from sklearn.feature_extraction.text import TfidfTransformer\n",
    "X_tfidf = TfidfTransformer().fit_transform(X_dense)\n",
    "\n",
    "#Learn LDA model\n",
    "from sklearn.decomposition import LatentDirichletAllocation\n",
    "n_topics = 10\n",
    "lda = LatentDirichletAllocation(n_components=n_topics, max_iter=10,\n",
    "                                learning_method='online',\n",
    "                                n_jobs=-1, random_state=95865)\n",
    "lda.fit(X_tfidf)\n",
    "\n",
    "#Print top words associated with each topic\n",
    "n_top_words = 5\n",
    "feature_names = word_names\n",
    "most_probable_words = []\n",
    "for topic_idx, topic in enumerate(lda.components_):\n",
    "    message = \"Topic #%d: \" % topic_idx\n",
    "    message += \"\\n\\t\"\n",
    "    message += \"\\n\\t\".join([feature_names[i]\n",
    "                            for i in topic.argsort()[:-n_top_words-1:-1]])\n",
    "    most_probable_words.append(\"\\n\\t\".join([feature_names[i]\n",
    "                                           for i in topic.argsort()[:-n_top_words-1:-1]]))\n",
    "    print(message)\n",
    "    print() "
   ]
  },
  {
   "cell_type": "markdown",
   "metadata": {},
   "source": [
    "### Part C\n",
    "Please write a few sentences to interpret the results of your topic modeling.  What do the various clusters seem to represent? \n",
    "Do they appear to be meaningful email categories for an energy company?"
   ]
  },
  {
   "cell_type": "markdown",
   "metadata": {},
   "source": [
    "#### Here, please write your interpretation: Topic 1 and Topic 7's highest probability words might be related to trading and finance.  Topic 5 and Topic 9's distribution over words might reflect recreational activities.  Topic 2 and Topic 4's highest probability words might be related to logistical activities, like meetings.  While few of the topics explictly deal with oil or energy, these topics do reflect reasonable subjects to be discussed in a company.  \n"
   ]
  },
  {
   "cell_type": "markdown",
   "metadata": {},
   "source": [
    "### Part D\n",
    "Please use t-SNE and the probability distribution of documents over topics to find a 2-D representation of the email documents. \n",
    "That is, please run t-SNE on the documents' distributions over topics, which is an output of your LDA model. When running t-SNE, set the angle to 0.5, the learning rate to 800, and init to 'PCA'.\n",
    "\n",
    "Our code ran in less than 30 seconds for this section."
   ]
  },
  {
   "cell_type": "code",
   "execution_count": 5,
   "metadata": {},
   "outputs": [
    {
     "name": "stdout",
     "output_type": "stream",
     "text": [
      "[t-SNE] Computing 91 nearest neighbors...\n",
      "[t-SNE] Indexed 1000 samples in 0.001s...\n",
      "[t-SNE] Computed neighbors for 1000 samples in 0.021s...\n",
      "[t-SNE] Computed conditional probabilities for sample 1000 / 1000\n",
      "[t-SNE] Mean sigma: 0.002453\n",
      "[t-SNE] KL divergence after 250 iterations with early exaggeration: 54.764156\n",
      "[t-SNE] Error after 1000 iterations: 0.186362\n",
      "Wall time: 22.1 s\n"
     ]
    }
   ],
   "source": [
    "%%time\n",
    "#Find 2D represenation of the email documents\n",
    "topic_proportions = lda.transform(X_tfidf)\n",
    "from sklearn.manifold import TSNE\n",
    "\n",
    "tsne_model = TSNE(n_components=2, learning_rate=800, \n",
    "                  verbose=1, random_state=0, angle=.5, init='pca')\n",
    "\n",
    "# 20-D -> 2-D\n",
    "topic_tsne_lda = tsne_model.fit_transform(topic_proportions)"
   ]
  },
  {
   "cell_type": "markdown",
   "metadata": {},
   "source": [
    "### Part E\n",
    "Use DP means to pick the number of clusters in your 2-D representation, assuming that you are only interested in clusters with probability of at least .05. Set the number of mixture components to 20, the weight concentration prior to .1, n_init to 200, and the random state to 95865.\n",
    "\n",
    "Our code for this section ran in less than 2 minutes."
   ]
  },
  {
   "cell_type": "code",
   "execution_count": 6,
   "metadata": {},
   "outputs": [
    {
     "name": "stdout",
     "output_type": "stream",
     "text": [
      "[  1.84753964e-01   1.81413690e-01   1.46336359e-01   1.45074380e-01\n",
      "   1.43568760e-01   1.26974192e-01   7.07523908e-02   1.07372863e-03\n",
      "   4.77600207e-05   4.34181905e-06   3.94710823e-07   3.58828021e-08\n",
      "   3.26207292e-09   2.96552083e-10   2.69592803e-11   2.45084366e-12\n",
      "   2.22803969e-13   2.02549063e-14   1.84135512e-15   1.67395920e-16]\n",
      "Wall time: 1min 34s\n"
     ]
    }
   ],
   "source": [
    "%%time\n",
    "#Determine the number of clusters\n",
    "from sklearn.mixture import BayesianGaussianMixture\n",
    "\n",
    "dpgmm = BayesianGaussianMixture(n_components=20, weight_concentration_prior=.1, n_init=200, random_state=95865)\n",
    "dpgmm.fit(topic_tsne_lda)\n",
    "\n",
    "print(np.sort(dpgmm.weights_)[::-1])"
   ]
  },
  {
   "cell_type": "markdown",
   "metadata": {},
   "source": [
    "#### Here, please write your choice for the number of clusters given your DP-Means results:  There are 7 clusters with probability of at least .05, so we select 7 clusters given these results.\n"
   ]
  },
  {
   "cell_type": "markdown",
   "metadata": {},
   "source": [
    "### Part F\n",
    "Fit a GMM model with the number of clusters found in part E and visualize the clustering results in a scatter plot. Each document should be represented by its 2-D t-SNE representation and should be color coded according to it's clustering assignment. When running your GMM, set n_init to 200, and the random_state to 95865.\n",
    "\n",
    "Our code for this section ran in less than 10 seconds."
   ]
  },
  {
   "cell_type": "code",
   "execution_count": 7,
   "metadata": {},
   "outputs": [
    {
     "name": "stdout",
     "output_type": "stream",
     "text": [
      "[ 0.17899959  0.15947994  0.13788893  0.13552729  0.13252308  0.12786762\n",
      "  0.12771354]\n",
      "Wall time: 7.81 s\n"
     ]
    },
    {
     "data": {
      "image/png": "[encoded data removed]",
      "text/plain": [
       "<matplotlib.figure.Figure at 0x1e0f139be80>"
      ]
     },
     "metadata": {},
     "output_type": "display_data"
    }
   ],
   "source": [
    "%%time\n",
    "#Fitting GMM with Number of Clusters Determined By DP-Means\n",
    "from sklearn.mixture import GaussianMixture\n",
    "\n",
    "gmm = GaussianMixture(n_components=7, n_init=200, random_state=95865)\n",
    "gmm.fit(topic_tsne_lda)\n",
    "\n",
    "print(np.sort(gmm.weights_)[::-1])\n",
    "\n",
    "gmm_cluster_assignments = gmm.predict(topic_tsne_lda)\n",
    "plt.scatter(topic_tsne_lda[:, 0], topic_tsne_lda[:, 1], c=gmm_cluster_assignments, cmap='Set3')\n",
    "plt.axis('equal')"
   ]
  },
  {
   "cell_type": "markdown",
   "metadata": {},
   "source": [
    "### Part G\n",
    "Now use sklearn's built-in CH-index function to pick the number of clusters. Here, you should use a for loop to run k-means for values of k = [2, 5, 10, 20, 30] over your 2-D t-SNE representation of the data.  When running k-means, set n_init to 1000 and random_state to 95865. Please record the CH-index for each k, and plot the results.  Indicate if you would select k to be 2, 5, 10, 20, or 30 given these results. \n",
    "\n",
    "Our code for this section ran in under 1 minute 30 seconds."
   ]
  },
  {
   "cell_type": "code",
   "execution_count": 8,
   "metadata": {},
   "outputs": [
    {
     "name": "stdout",
     "output_type": "stream",
     "text": [
      "Wall time: 37.7 s\n"
     ]
    },
    {
     "data": {
      "image/png": "[encoded data removed]",
      "text/plain": [
       "<matplotlib.figure.Figure at 0x1e0f1987fd0>"
      ]
     },
     "metadata": {},
     "output_type": "display_data"
    }
   ],
   "source": [
    "%%time\n",
    "#Determine Number of Clusters with k-means and CH-Index\n",
    "from sklearn.cluster import KMeans\n",
    "from sklearn import metrics\n",
    "\n",
    "ch_index_scores = []\n",
    "k_list = [2, 5,10,20,30]\n",
    "for k in k_list:\n",
    "    kmeans = KMeans(n_clusters=k, n_init=1000, random_state=95865)\n",
    "    kmeans.fit(topic_tsne_lda)\n",
    "    labels = kmeans.labels_\n",
    "    chi = metrics.calinski_harabaz_score(topic_tsne_lda, labels)\n",
    "    ch_index_scores.append(chi)\n",
    "    \n",
    "plt.plot(k_list, ch_index_scores)"
   ]
  },
  {
   "cell_type": "markdown",
   "metadata": {},
   "source": [
    "#### Here, please write your choice for the number of clusters based on your analysis using k-means and the CH-Index: 30\n"
   ]
  },
  {
   "cell_type": "markdown",
   "metadata": {},
   "source": [
    "### Part H\n",
    "Fit k-means with the number of clusters found in part G and visualize the clustering results in a scatter plot. \n",
    "Each document should be represented by its 2-D t-SNE representation and should be color coded according to it's clustering assignment.\n",
    "\n",
    "Then, write a few sentences explaining your results from part E and from this clustering visualization.  Are the clusters found by k-means good? Why might you have gotten these results?  "
   ]
  },
  {
   "cell_type": "code",
   "execution_count": 9,
   "metadata": {},
   "outputs": [
    {
     "name": "stdout",
     "output_type": "stream",
     "text": [
      "Wall time: 14.2 s\n"
     ]
    },
    {
     "data": {
      "image/png": "[encoded data removed]",
      "text/plain": [
       "<matplotlib.figure.Figure at 0x1e0f13ab400>"
      ]
     },
     "metadata": {},
     "output_type": "display_data"
    }
   ],
   "source": [
    "%%time\n",
    "from sklearn.cluster import KMeans\n",
    "\n",
    "kmeans = KMeans(n_clusters=30, n_init=1000, random_state=95865)\n",
    "kmeans.fit(topic_tsne_lda)\n",
    "\n",
    "kmeans_cluster_assignments = kmeans.predict(topic_tsne_lda)\n",
    "\n",
    "plt.scatter(topic_tsne_lda[:, 0], topic_tsne_lda[:, 1],\n",
    "            c=kmeans_cluster_assignments, cmap='Set3')\n",
    "plt.axis('equal')"
   ]
  },
  {
   "cell_type": "markdown",
   "metadata": {},
   "source": [
    "#### Here, please write a few sentences to explain your results:  The CH-Index was increasing with the number of clusters for these values of k.  We therefore selected k = 30.  The clusters do not appear to be very good.  K-means shouldn't be expected to work well for this dataset as it doesn't remember a bunch of circle-shaped clusters, which might explain these results.\n"
   ]
  },
  {
   "cell_type": "code",
   "execution_count": null,
   "metadata": {
    "collapsed": true
   },
   "outputs": [],
   "source": []
  }
 ],
 "metadata": {
  "kernelspec": {
   "display_name": "Python 3",
   "language": "python",
   "name": "python3"
  },
  "language_info": {
   "codemirror_mode": {
    "name": "ipython",
    "version": 3
   },
   "file_extension": ".py",
   "mimetype": "text/x-python",
   "name": "python",
   "nbconvert_exporter": "python",
   "pygments_lexer": "ipython3",
   "version": "3.6.6"
  }
 },
 "nbformat": 4,
 "nbformat_minor": 1
}
