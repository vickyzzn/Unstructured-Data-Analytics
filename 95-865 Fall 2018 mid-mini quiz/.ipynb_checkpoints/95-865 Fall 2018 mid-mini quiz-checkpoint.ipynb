{
 "cells": [
  {
   "cell_type": "markdown",
   "metadata": {},
   "source": [
    "# 95-865 Fall 2018 Quiz"
   ]
  },
  {
   "cell_type": "markdown",
   "metadata": {},
   "source": [
    "Your name: Zhining Zhou\n",
    "\n",
    "Your Andrew ID: zhiningz"
   ]
  },
  {
   "cell_type": "markdown",
   "metadata": {},
   "source": [
    "There are two problems. The first problem is mainly about making sure you can code up various things from the first half of 95-865. The second problem is more conceptual: we give you intermediate outputs of some analyses that we have done on a particular dataset, and ask you to answer some follow-up questions."
   ]
  },
  {
   "cell_type": "code",
   "execution_count": 2,
   "metadata": {},
   "outputs": [],
   "source": [
    "# DO NOT MODIFY THIS BLOCK (BUT YOU SHOULD RUN THIS FIRST)\n",
    "\n",
    "import numpy as np\n",
    "%matplotlib inline\n",
    "import matplotlib.pyplot as plt\n",
    "plt.style.use('ggplot')"
   ]
  },
  {
   "cell_type": "markdown",
   "metadata": {},
   "source": [
    "# Problem 1 [50 points]"
   ]
  },
  {
   "cell_type": "markdown",
   "metadata": {},
   "source": [
    "**(a) [5 points]** Begin by reading in the book titles from the file `all_book_titles.txt` (which should be in the same folder as this Jupyter notebook). Complete the following tasks:\n",
    "\n",
    "   1. Read the book titles into a list of strings named `titles`.\n",
    "   2. Display the first 8 titles in your list. \n",
    "   3. Print the total number of book titles in your list.\n",
    "   "
   ]
  },
  {
   "cell_type": "code",
   "execution_count": 8,
   "metadata": {},
   "outputs": [
    {
     "name": "stdout",
     "output_type": "stream",
     "text": [
      "The first 8 titles\n",
      "[\"Scholars' Guide to Washington, D. C. for East Asian Studies China, Japan, Korea, and Mongolia\", \"Gardner's Art through the Ages: A Global History, Volume II (Book Only)\", 'Criminology : The Core', 'Pharmacology for the Primary Care Provider', 'Calculus: Concepts and Contexts', 'Wars in the Woods The Rise of Ecological Forestry in America', 'Pharmacology for the Surgical Technologist', 'Essentials of Economics, 3rd Edition (The McGraw-Hill Series in Economics)']\n",
      "Total number of book titles\n",
      "2373\n"
     ]
    }
   ],
   "source": [
    "# YOUR CODE HERE\n",
    "with open('all_book_titles.txt') as f:\n",
    "    titles = f.readlines()\n",
    "\n",
    "titles = [x.strip() for x in titles] \n",
    "print(\"The first 8 titles\")\n",
    "print(titles[:8])\n",
    "print(\"Total number of book titles\")\n",
    "print(len(titles))"
   ]
  },
  {
   "cell_type": "markdown",
   "metadata": {},
   "source": [
    "**(b) [25 points]** Build the frequency table. Specifically, complete the following tasks:\n",
    "\n",
    "  1. Process the text by separating and lemmatizing the words.\n",
    "  2. Count the number of times each word appears in the file and build a frequency table. \n",
    "  3. Sort the table and print the top 20 most frequent words, along with their frequencies and ranks.\n",
    "  4. From results in step 3, which of those 20 words that you think could be added into stopwords for this problem? Add those new stopwords you chose, and recompute the frequency table. Plot the top 10 words in bar plots.\n",
    "  \n",
    "  \n",
    "Notes: \n",
    "* When counting the words, use raw counts as the \"frequency\". DO NOT divide by the total number of words in the file. \n",
    "* DO NOT include words (tokens) that are stopwords/punctuation/spaces/short words with length<3. \n",
    "* For stopwords, use the stopwords provided in the file `stopwords.txt` (which should be in the same folder as this Jupyter notebook).\n"
   ]
  },
  {
   "cell_type": "code",
   "execution_count": 15,
   "metadata": {},
   "outputs": [
    {
     "name": "stdout",
     "output_type": "stream",
     "text": [
      "edition : 474\n",
      "introduction : 242\n",
      "science : 135\n",
      "history : 124\n",
      "series : 100\n",
      "approach : 93\n",
      "computer : 90\n",
      "business : 90\n",
      "access : 84\n",
      "biology : 82\n",
      "theory : 78\n",
      "card : 77\n",
      "art : 76\n",
      "applications : 76\n",
      "analysis : 74\n",
      "world : 73\n",
      "human : 72\n",
      "chemistry : 70\n",
      "statistics : 69\n",
      "design : 68\n"
     ]
    }
   ],
   "source": [
    "# YOUR CODE HERE\n",
    "import spacy\n",
    "nlp = spacy.load('en')  # load spaCy's built-in English models\n",
    "text = open('all_book_titles.txt').read()\n",
    "parsed_text = nlp(text)\n",
    "\n",
    "with open('stopwords.txt') as f:\n",
    "    stopwords = f.readlines()\n",
    "stopwords = [x.strip() for x in stopwords]\n",
    "\n",
    "from collections import Counter\n",
    "\n",
    "histogram_with_some_filtering = Counter()\n",
    "\n",
    "for token in parsed_text:\n",
    "    lemma = token.lemma_.lower()\n",
    "    if not (token.pos_ == 'PUNCT' or token.pos_ == 'SPACE' or len(lemma) < 3 or lemma in stopwords):\n",
    "        histogram_with_some_filtering[lemma] += 1\n",
    "    \n",
    "from operator import itemgetter\n",
    "sorted_lemma_count_pairs = sorted(histogram_with_some_filtering.items(),\n",
    "                                  reverse=True,\n",
    "                                  key=itemgetter(1))\n",
    "i = 0\n",
    "for lemma, count in sorted_lemma_count_pairs:\n",
    "    if (i == 20):\n",
    "        break\n",
    "    print(lemma, \":\", count)\n",
    "    i += 1\n"
   ]
  },
  {
   "cell_type": "markdown",
   "metadata": {},
   "source": [
    "edition, introduction, series, access, approach, applications, analysis, design could also be stop words. "
   ]
  },
  {
   "cell_type": "code",
   "execution_count": 16,
   "metadata": {},
   "outputs": [
    {
     "name": "stdout",
     "output_type": "stream",
     "text": [
      "['a', 'about', 'above', 'across', 'after', 'again', 'against', 'all', 'almost', 'alone', 'along', 'already', 'also', 'although', 'always', 'among', 'an', 'and', 'another', 'any', 'anybody', 'anyone', 'anything', 'anywhere', 'are', 'area', 'areas', 'around', 'as', 'ask', 'asked', 'asking', 'asks', 'at', 'away', 'b', 'back', 'backed', 'backing', 'backs', 'be', 'became', 'because', 'become', 'becomes', 'been', 'before', 'began', 'behind', 'being', 'beings', 'best', 'better', 'between', 'big', 'both', 'but', 'by', 'c', 'came', 'can', 'cannot', 'case', 'cases', 'certain', 'certainly', 'clear', 'clearly', 'come', 'could', 'd', 'did', 'differ', 'different', 'differently', 'do', 'does', 'done', 'down', 'down', 'downed', 'downing', 'downs', 'during', 'e', 'each', 'early', 'either', 'end', 'ended', 'ending', 'ends', 'enough', 'even', 'evenly', 'ever', 'every', 'everybody', 'everyone', 'everything', 'everywhere', 'f', 'face', 'faces', 'fact', 'facts', 'far', 'felt', 'few', 'find', 'finds', 'first', 'for', 'four', 'from', 'full', 'fully', 'further', 'furthered', 'furthering', 'furthers', 'g', 'gave', 'general', 'generally', 'get', 'gets', 'give', 'given', 'gives', 'go', 'going', 'good', 'goods', 'got', 'great', 'greater', 'greatest', 'group', 'grouped', 'grouping', 'groups', 'h', 'had', 'has', 'have', 'having', 'he', 'her', 'here', 'herself', 'high', 'high', 'high', 'higher', 'highest', 'him', 'himself', 'his', 'how', 'howevhowevhoif', 'important', 'in', 'interest', 'interested', 'interesting', 'interests', 'into', 'is', 'it', 'its', 'itself', 'j', 'just', 'k', 'keep', 'keeps', 'kind', 'knew', 'know', 'known', 'knows', 'l', 'large', 'largely', 'last', 'later', 'latest', 'least', 'less', 'let', 'lets', 'like', 'likely', 'long', 'longer', 'longest', 'm', 'made', 'make', 'making', 'man', 'many', 'may', 'me', 'member', 'members', 'men', 'might', 'more', 'most', 'mostly', 'mr', 'mrs', 'much', 'must', 'my', 'myself', 'n', 'nnnnnsary', 'need', 'needed', 'needing', 'needs', 'never', 'new', 'new', 'newer', 'newest', 'next', 'no', 'nobody', 'non', 'noone', 'not', 'nothing', 'now', 'nowhere', 'number', 'numbers', 'o', 'of', 'off', 'often', 'old', 'older', 'oldest', 'on', 'once', 'one', 'only', 'open', 'opened', 'opening', 'opens', 'or', 'order', 'ordered', 'ordering', 'orders', 'other', 'others', 'our', 'out', 'over', 'p', 'part', 'parted', 'parting', 'parts', 'per', 'perhaps', 'place', 'places', 'point', 'pointed', 'pointing', 'points', 'possible', 'present', 'presented', 'presenting', 'presents', 'problem', 'problems', 'put', 'puts', 'q', 'quite', 'r', 'rather', 'really', 'right', 'right', 'room', 'rooms', 's', 'said', 'same', 'saw', 'say', 'says', 'second', 'seconds', 'see', 'seem', 'seemed', 'seeming', 'seems', 'sees', 'several', 'shall', 'she', 'should', 'show', 'showed', 'showing', 'shows', 'side', 'sides', 'since', 'small', 'smaller', 'smallest', 'so', 'some', 'somebody', 'someone', 'something', 'somewhere', 'state', 'states', 'still', 'still', 'such', 'sure', 't', 'take', 'taken', 'than', 'that', 'the', 'their', 'them', 'hen', 'there', 'therefore', 'these', 'they', 'thing', 'things', 'think', 'thinks', 'think', 'those', 'though', 'thought', 'thoughts', 'three', 'through', 'thus', 'to', 'today', 'together', 'too', 'took', 'toward', 'turn', 'turned', 'turning', 'turns', 'two', 'u', 'under', 'until', 'up', 'upon', 'us', 'use', 'used', 'uses', 'v', 'very', 'w', 'want', 'wanted', 'wanting', 'wants', 'was', 'way', 'ways', 'we', 'well', 'wells', 'went', 'were', 'what', 'when', 'where', 'whether', 'which', 'while', 'who', 'whole', 'whose', 'why', 'will', 'with', 'within', 'without', 'work', 'worked', 'working', 'works', 'would', 'x', 'y', 'year', 'years', 'yet', 'yyyyyyyung', 'younger', 'youngest', 'your', 'yours', 'z', 'edition', 'introduction', 'series', 'access', 'applications', 'approach', 'analysis', 'design']\n"
     ]
    },
    {
     "data": {
      "text/plain": [
       "Text(0, 0.5, 'Raw count')"
      ]
     },
     "execution_count": 16,
     "metadata": {},
     "output_type": "execute_result"
    },
    {
     "data": {
      "image/png": "[encoded data removed]",
      "text/plain": [
       "<Figure size 432x288 with 1 Axes>"
      ]
     },
     "metadata": {},
     "output_type": "display_data"
    }
   ],
   "source": [
    "list = ['edition','introduction','series','access', 'applications', 'approach', 'analysis', 'design']\n",
    "stopwords.extend(list)\n",
    "print(stopwords)\n",
    "histogram_with_additional_stopwords = Counter()\n",
    "\n",
    "for token in parsed_text:\n",
    "    lemma = token.lemma_.lower()\n",
    "    if not (token.pos_ == 'PUNCT' or token.pos_ == 'SPACE' or len(lemma) < 3 or lemma in stopwords):\n",
    "        histogram_with_additional_stopwords[lemma] += 1\n",
    "    \n",
    "sorted_lemma_with_additional_stopwords = sorted(histogram_with_additional_stopwords.items(),\n",
    "                                  reverse=True,\n",
    "                                  key=itemgetter(1))\n",
    "\n",
    "num_top_lemmas_to_plot = 10\n",
    "top_lemmas = [lemma for lemma, count in sorted_lemma_with_additional_stopwords[:num_top_lemmas_to_plot]]\n",
    "top_counts = [count for lemma, count in sorted_lemma_with_additional_stopwords[:num_top_lemmas_to_plot]]\n",
    "plt.bar(range(num_top_lemmas_to_plot), top_counts)\n",
    "plt.xticks(range(num_top_lemmas_to_plot), top_lemmas, rotation=45)\n",
    "plt.xlabel('Lemma')\n",
    "plt.ylabel('Raw count')"
   ]
  },
  {
   "cell_type": "markdown",
   "metadata": {},
   "source": [
    "**(c) [20 points]** We now use k-means to cluster the book titles. The goal of this problem is to (1) choose the best `k` based on the silhouette score and (2) interpret the clustering results.\n",
    "\n",
    "\n",
    "* (1) For each k=10,30,50,...,190: cluster all the book titles (in full-dimensionality, so don't reduce dimensions!) into k clusters, and compute and print the silhouette score for this choice of k. (Note: you don't need to know the details of what the [\"silhouette score\"](http://scikit-learn.org/stable/modules/generated/sklearn.metrics.silhouette_score.html#sklearn.metrics.silhouette_score) is computing!--for the purposes of this exam, you just need to know that a higher silhouette score is better.)\n",
    "\n",
    "* (2) After you obtain the best `k`, print out the book titles in the first 5 clusters given by the best model, and interpret each cluster briefly. "
   ]
  },
  {
   "cell_type": "markdown",
   "metadata": {},
   "source": [
    "Before we cluster the book titles using k-means, we need to represent each title as a feature vector, very similar to building a histogram. We have provided this code for you. The code uses scikit-learn's `TfidfVectorizer` class, which represents each document as a feature vector. The resulting variable `X` is a 2-D numpy array, and has rows corresponding to book titles, and columns corresponding to different words. For the purposes of this quiz, you do *not* have to worry about how this works. Just treat `X` as a 2D numpy array where rows are feature vectors."
   ]
  },
  {
   "cell_type": "code",
   "execution_count": 17,
   "metadata": {},
   "outputs": [
    {
     "name": "stdout",
     "output_type": "stream",
     "text": [
      "(2373, 291)\n"
     ]
    }
   ],
   "source": [
    "# DO NOT MODIFY CODE IN THIS CELL\n",
    "\n",
    "# If your code above works correctly, then running this cell should result\n",
    "# in the variable `X` being a 2D numpy array with shape (2373, 291)\n",
    "\n",
    "from sklearn.feature_extraction.text import TfidfVectorizer\n",
    "\n",
    "vectorizer = TfidfVectorizer(min_df=10, max_df=0.8)\n",
    "X = vectorizer.fit_transform(titles)  # This is stored as a sparse array, so as to save memory\n",
    "\n",
    "print(X.shape) # The output should be (2373, 291)"
   ]
  },
  {
   "cell_type": "code",
   "execution_count": 21,
   "metadata": {},
   "outputs": [
    {
     "name": "stdout",
     "output_type": "stream",
     "text": [
      "k = 10 has silhouette score 0.03775329920152041\n",
      "k = 30 has silhouette score 0.08993829960297525\n",
      "k = 50 has silhouette score 0.1272831401322234\n",
      "k = 70 has silhouette score 0.14645922417482043\n",
      "k = 90 has silhouette score 0.158505342927869\n",
      "k = 110 has silhouette score 0.16193706313283704\n",
      "k = 130 has silhouette score 0.1569908407617113\n",
      "k = 150 has silhouette score 0.15113858410975486\n",
      "k = 170 has silhouette score 0.15166443549082287\n",
      "k = 190 has silhouette score 0.15384976946362977\n",
      "Best k within 10, 30, ..., 190 according to CH index: 110\n"
     ]
    }
   ],
   "source": [
    "# YOUR CODE HERE\n",
    "from sklearn.cluster import KMeans\n",
    "from sklearn.metrics import silhouette_score\n",
    "\n",
    "best_score = -np.inf\n",
    "best_k = None\n",
    "best_model = None\n",
    "best_cluster_assignments = None\n",
    "\n",
    "for k in range(10, 210, 20):\n",
    "    candidate_kmeans = KMeans(n_clusters=k, n_init=100, random_state=0)\n",
    "    candidate_kmeans.fit(X)\n",
    "    cluster_assignments = candidate_kmeans.predict(X)\n",
    "    score = silhouette_score(X, cluster_assignments)\n",
    "    \n",
    "    print('k =', k, 'has silhouette score', score)\n",
    "    \n",
    "    if score > best_score:\n",
    "        best_score = score\n",
    "        best_k = k\n",
    "        best_model = candidate_kmeans\n",
    "        best_cluster_assignments = cluster_assignments\n",
    "    \n",
    "print('Best k within 10, 30, ..., 190 according to silhouette score:', best_k)"
   ]
  },
  {
   "cell_type": "code",
   "execution_count": 37,
   "metadata": {},
   "outputs": [
    {
     "name": "stdout",
     "output_type": "stream",
     "text": [
      "Cluster 1 :\n",
      "Essentials of Economics, 3rd Edition (The McGraw-Hill Series in Economics)\n",
      "New Perspectives on Industrial Organization: With Contributions from Behavioral Economics and Game Theory (Springer Texts in Business and Economics)\n",
      "Principles of Economics\n",
      "Managerial Economics & Business Strategy\n",
      "Environmental Economics: An Introduction (The Mcgraw-Hill)\n",
      "Essentials of Economics\n",
      "International Economics : Theory and Policy\n",
      "Fundamentals of Economics\n",
      "Labor Economics\n",
      "Economics, 9th Edition (The McGraw-Hill Series in Economics)\n",
      "Economics: The Basics (Mcgraw-Hill/Irwin Series in Economics)\n",
      "Principles of Economics (11th Edition)\n",
      "International Economics (The Mcgraw-Hill Series Economics)\n",
      "Economics Private and Public Choice 14e\n",
      "Urban Economics\n",
      "Contemporary Labor Economics (The Mcgraw-Hill Series Economics)\n",
      "Economics\n",
      "International Economics (6th Edition) (Pearson Economics)\n",
      "Economics Today: The Micro View (17th Edition)\n",
      "Managerial Economics\n",
      "International Monetary & Financial  Economics (Pearson Series in Economics)\n",
      "International Economics\n",
      "Managerial Economics: Foundations of Business Analysis and Strategy (The Mcgraw-Hill Economics Series)\n",
      "Economics\n",
      "Economics of Strategy\n",
      "Economics\n",
      "Economics: Principles, Problems, & Policies (McGraw-Hill Series in Economics)\n",
      "Plant Design and Economics for Chemical Engineers\n",
      "International Economics\n",
      "Essentials of Economics\n",
      "Managerial Economics (7th Edition)\n",
      "The Economics of Money, Banking and Financial Markets: The Business School Edition (3rd Edition) (Pearson Series in Economics)\n",
      "Economics : Principles, Applications, and Tools\n",
      "Principles of Economics\n",
      "\n",
      "Cluster 2 :\n",
      "Data Structures A Pseudocode Approach With C++\n",
      "Object-Oriented Data Structures Using Java\n",
      "Data Structures & Algorithm Analysis in C++\n",
      "Data Structures and Other Objects Using Java\n",
      "Data Structures and Other Objects Using C++\n",
      "ADTs, Data Structures, and Problem Solving with C++\n",
      "Data Structures and Algorithms in Java\n",
      "C++ Plus Data Structures\n",
      "Data Structures and Abstractions with Java (3rd Edition)\n",
      "Data Structures and Problem Solving Using Java\n",
      "Objects, Absraction, Data Structures And Design Using C++\n",
      "Data Structures & Algorithms in Java\n",
      "Data Structures and Algorithms in Java\n",
      "Java Software Structures : Designing and Using Data Structures\n",
      "Loss Models: From Data to Decisions\n",
      "Data Structures and Algorithms in C++ 2E\n",
      "Data Structures And Algorithm Analysis in C++\n",
      "Fundamentals of Python: From First Programs through Data Structures\n",
      "Ecological Models and Data in R\n",
      "Data Structures and Algorithms in Java\n",
      "Data Analysis Using SAS\n",
      "C++ Programming: Program Design Including Data Structures, 6th Edition\n",
      "Data Structures: Abstraction and Design Using Java\n",
      "Problem Solving with Data Structures Using Java: A Multimedia Approach\n",
      "Data Structures With C++ Using Stl\n",
      "Starting Out with Java : From Control Structures through Data Structures\n",
      "Data Structures and Algorithms in C++\n",
      "Data Structures and Algorithm Analysis in Java\n",
      "Data Structures Using C++\n",
      "\n",
      "Cluster 3 :\n",
      "Does Feminism Discriminate against Men?: A Debate\n",
      "No Turning Back The History of Feminism and the Future of Women\n",
      "Taking on the Big Boys Or Why Feminism Is Good for Families, Business, and the Nation\n",
      "Feminism Issues & Arguments\n",
      "Feminism-Art-Theory An Anthology 1968-2000\n",
      "Ain't I A Woman Black Women and Feminism\n",
      "Feminism and 'The Schooling Scandal'\n",
      "Gender Trouble Feminism And the Subversion of Identity\n",
      "Feminism and Pop Culture: Seal Studies\n",
      "Full Frontal Feminism A Young Womans Guide to Why Feminism Matters\n",
      "The History of U.S. Feminism\n",
      "Working With Men Feminism and Social Work\n",
      "Feminism Is for Everybody Passionate Politics\n",
      "Colonize This! Young Women of Color on Today's Feminism\n",
      "Islamic Feminism in Kuwait: The Politics and Paradoxes\n",
      "Feminism and Women's Rights Worldwide [3 volumes]: [Three Volumes] (Women's Psychology)\n",
      "The Feminism and Visual Culture Reader: Second Edition (In Sight: Visual Culture)\n",
      "Three Challenges to Ethics Environmentalism, Feminism, and Multiculturalism\n",
      "Feminism Seduced: How Global Elites Use Women's Labor and Ideas to Exploit the World\n",
      "Canon and Criterion in Christian Theology From the Fathers to Feminism\n",
      "Expanding Discourse Feminism and Art History\n",
      "\n",
      "Cluster 4 :\n",
      "Relativity, Gravitation and Cosmology: A Basic Introduction (Oxford Master Series in Physics)\n",
      "Differential Geometry and Relativity Theory: An Introduction (Chapman & Hall/CRC Pure and Applied Mathematics)\n",
      "Einstein's Physics: Atoms, Quanta, and Relativity - Derived, Explained, and Appraised\n",
      "Special Relativity\n",
      "Semi-Riemannian Geometry With Applications to Relativity\n",
      "Introducing Einstein's Relativity\n",
      "General Relativity and the Einstein Equations\n",
      "Introduction to Special Relativity\n",
      "Introduction to General Relativity (Pure & Applied Physics)\n",
      "Gravity: An Introduction to Einstein's General Relativity\n",
      "Spacetime Physics Introduction to Special Relativity\n",
      "The Relativity of Deviance\n",
      "General Relativity An Introduction for Physicists\n",
      "Exploring Black Holes Introduction to General Relativity\n",
      "Spacetime and Geometry An Introduction to General Relativity\n",
      "General Relativity and Gravitation:One Hundred Years After the Birth of Albert Einstein. Volume 1\n",
      "Relativity and Field Theory : Introduction to Special Relativity and to Classical and Quantum Field Theory\n",
      "Gravitation and Cosmology: Principles and Applications of the General Theory of Relativity\n",
      "\n",
      "Cluster 5 :\n",
      "Biochemistry\n",
      "Principles of Biochemistry\n",
      "General, Organic, and Biochemistry : An Applied Approach\n",
      "Introduction to General, Organic and Biochemistry\n",
      "General, Organic, and Biochemistry: An Applied Approach\n",
      "Introduction to Organic and Biochemistry (William H. Brown and Lawrence S. Brown)\n",
      "Lehninger Principles of Biochemistry\n",
      "Essentials of General, Organic, and Biochemistry\n",
      "Laboratory Experiments for Introduction to General, Organic and Biochemistry\n",
      "Lehninger Principles of Biochemistry and Absolute Ultimate Guide\n",
      "Essential Biochemistry\n",
      "Biochemistry (Biochemistry (Berg))\n",
      "General, Organic and Biochemistry\n",
      "Biochemistry\n",
      "Principles of Biochemistry\n",
      "Absolute Ultimate Guide for Lehninger Principles of Biochemistry\n",
      "Introduction to General, Organic and Biochemistry\n",
      "Chemistry for Today: General, Organic, and Biochemistry\n",
      "Biochemistry\n",
      "Marks' Basic Medical Biochemistry (Lieberman, Marks's Basic Medical Biochemistry)\n",
      "\n"
     ]
    }
   ],
   "source": [
    "clusters = []\n",
    "\n",
    "for k in range(5):\n",
    "    cl = [i for idx,i in enumerate(titles) if best_cluster_assignments[idx]==k]\n",
    "    clusters.append(cl)\n",
    "    \n",
    "for c in range(5):\n",
    "    print('Cluster', (c+1), ':')  \n",
    "    for bk in range(len(clusters[c])):\n",
    "        print(clusters[c][bk])\n",
    "    print()"
   ]
  },
  {
   "cell_type": "markdown",
   "metadata": {},
   "source": [
    "**Please write down your interpretation of the clusters**: WRITE YOUR ANSWER HERE"
   ]
  },
  {
   "cell_type": "markdown",
   "metadata": {},
   "source": [
    "# Problem 2 [50 points]\n",
    "\n",
    "In this problem, we examine part of the Fashion MNIST dataset by Zalando Research. In particular, we look at 10,000 images, each 28 pixels by 28 pixels, where each image is of one of the following 10 items:\n",
    "\n",
    "- T-shirt/top (encoded by the integer 0)\n",
    "- Trouser (encoded by the integer 1)\n",
    "- Pullover (2)\n",
    "- Dress (3)\n",
    "- Coat (4)\n",
    "- Sandal (5)\n",
    "- Shirt (6)\n",
    "- Sneaker (7)\n",
    "- Bag (8)\n",
    "- Ankle boot (9)\n",
    "\n",
    "We are intentionally *not* giving you the raw images. Instead, we provide you with some intermediate results from some analyses we have already done, and we ask you some follow-up questions.\n",
    "\n",
    "In what follows, assume the following: each image is represented as a 784-dimensional feature vector (corresponding to flattening the image's raw grayscale pixels to go from an 28 by 28 image). For each feature vector, each feature is stored as a value between 0 (black) and 1 (white). Below is a plot of many example images from the Fashion MNIST dataset:\n",
    "\n",
    "![Fashion MNIST examples](./fashion-mnist-sprite.png)"
   ]
  },
  {
   "cell_type": "markdown",
   "metadata": {},
   "source": [
    "**(a) [5 points]** We ran PCA and got the following plot:\n",
    "\n",
    "![PCA plot](./Fall2018_quiz_PCA.png)\n",
    "\n",
    "Note that the horizontal axis corresponds to the first principal component, and the vertical axis corresponds to the second principal component. The explained variance ratio for the first and second principal components are 0.2902809 and 0.17902619, respectively."
   ]
  },
  {
   "cell_type": "markdown",
   "metadata": {},
   "source": [
    "Even though the explained variance ratios are quite low, your friend Alice says that actually PCA is not too bad if you're mainly concerned about distinguishing between images that are of sneakers/sandals vs those that are not, and moreover you don't care about trying to tell apart sneakers from sandals. In fact, she says that even just using PCA with 1 dimension is fine. Why might Alice say this?"
   ]
  },
  {
   "cell_type": "markdown",
   "metadata": {},
   "source": [
    "**Your answer here (no code is needed for this answer):** When just looking at the horizontal axis, it could differentiate sneakers/sandals from those that are not. "
   ]
  },
  {
   "cell_type": "markdown",
   "metadata": {},
   "source": [
    "**(b) [10 points]** We have provided the weights for the first two PCA components below, along with the feature vectors of 10 images. We have also provided a mean offset vector. Compute the low-dimensional PCA representation of these 10 images *using the weights provided*, where as a preprocessing step, *be sure to subtract the mean offset vector from each feature vector*."
   ]
  },
  {
   "cell_type": "code",
   "execution_count": 3,
   "metadata": {},
   "outputs": [],
   "source": [
    "# DO NOT MODIFY THIS CELL\n",
    "\n",
    "weights_for_first_principal_component = np.loadtxt('Fall2018_quiz_PCA_weights_1.txt')\n",
    "weights_for_second_principal_component = np.loadtxt('Fall2018_quiz_PCA_weights_2.txt')\n",
    "mean_offset_vector = np.loadtxt('Fall2018_quiz_PCA_mean_offset.txt')\n",
    "ten_feature_vectors = np.loadtxt('Fall2018_quiz_PCA_ten_feature_vectors.txt')"
   ]
  },
  {
   "cell_type": "code",
   "execution_count": 4,
   "metadata": {},
   "outputs": [
    {
     "name": "stdout",
     "output_type": "stream",
     "text": [
      "[[ 5.4590781  -1.30941671]\n",
      " [-0.15553542 -6.13815182]\n",
      " [-3.25027977 -0.56589659]\n",
      " [ 3.07398627  0.83821225]\n",
      " [ 1.03865001 -3.78438213]\n",
      " [-0.69872836 -0.02718894]\n",
      " [-0.02365169  6.77955801]\n",
      " [ 1.09304693 -0.29477232]\n",
      " [-5.715559   -0.62636351]\n",
      " [-0.54474717 -3.37477831]]\n"
     ]
    }
   ],
   "source": [
    "low_dimensional_vectors = np.zeros((10, 2))  # for you to fill out\n",
    "for i in range(10):\n",
    "    low_dimensional_vectors[i,0] = np.inner(weights_for_first_principal_component, \n",
    "                                            ten_feature_vectors[i,:] - mean_offset_vector)\n",
    "    low_dimensional_vectors[i,1] = np.inner(weights_for_second_principal_component,\n",
    "                                           ten_feature_vectors[i,:] - mean_offset_vector)\n",
    "print(low_dimensional_vectors)"
   ]
  },
  {
   "cell_type": "markdown",
   "metadata": {},
   "source": [
    "**(c) [25 points]** We ran t-SNE and ended up with the following plot:\n",
    "\n",
    "![t-SNE image](./Fall2018_quiz_tSNE.png)\n",
    "\n",
    "Below, we provide a *subsample* of the images used to construct the above t-SNE plot, along with their low-dimensional t-SNE representations and their labels:"
   ]
  },
  {
   "cell_type": "code",
   "execution_count": 5,
   "metadata": {},
   "outputs": [],
   "source": [
    "image_vectors = np.loadtxt('Fall2018_quiz_subsample_image_vectors.txt')\n",
    "tsne_vectors = np.loadtxt('Fall2018_quiz_subsample_tsne_vectors.txt')\n",
    "labels = np.loadtxt('Fall2018_quiz_subsample_labels.txt').astype(np.int)\n",
    "\n",
    "# the i-th row of `image_vectors` has t-SNE representation given by `tsne_vectors[i]` and has label `labels[i]`"
   ]
  },
  {
   "cell_type": "markdown",
   "metadata": {},
   "source": [
    "From looking at the t-SNE plot, your friend Bob wants to know why coats and pullovers overlap so much in the plot. He wonders whether the two types of clothing are just really hard to tell apart. You decide to help Bob answer this question.\n",
    "\n",
    "Using the above subset of images (in the previous cell), write code that completes the following tasks:\n",
    "\n",
    "1. Compute the mean 2D coordinate of the low-dimensional t-SNE representations of images corresponding to coats (using the known labels)\n",
    "2. Find the coat image with t-SNE representation closest (in Euclidean distance) to the mean computed in step 1; plot this coat image as a 28-by-28 pixel image using the `plt.imshow` function with attribute `cmap='gray'`\n",
    "3. Find the pullover image with t-SNE representation closest (in Euclidean distance) to the mean computed in step 1; plot this pullover image again as a 28-by-28 pixel image using `plt.imshow` with `cmap='gray'`"
   ]
  },
  {
   "cell_type": "code",
   "execution_count": 45,
   "metadata": {},
   "outputs": [
    {
     "name": "stdout",
     "output_type": "stream",
     "text": [
      "-14.999514558361572 35.74414237060593\n"
     ]
    },
    {
     "data": {
      "text/plain": [
       "array([-32.23932648,  26.74319267])"
      ]
     },
     "execution_count": 45,
     "metadata": {},
     "output_type": "execute_result"
    }
   ],
   "source": [
    "# YOUR CODE HERE\n",
    "li = []\n",
    "for i in range(len(labels)):\n",
    "    if (labels[i] == 4):\n",
    "        li.append(tsne_vectors[i])\n",
    "x_sum = 0\n",
    "y_sum = 0\n",
    "for i in range(len(li)):\n",
    "    x_sum += li[i][0]\n",
    "    y_sum += li[i][1]\n",
    "\n",
    "x_mean = x_sum / len(li)\n",
    "y_mean = y_sum / len(li)\n",
    "\n",
    "print(x_mean, y_mean)\n",
    "\n",
    "li[0]"
   ]
  },
  {
   "cell_type": "code",
   "execution_count": 46,
   "metadata": {},
   "outputs": [
    {
     "data": {
      "text/plain": [
       "29"
      ]
     },
     "execution_count": 46,
     "metadata": {},
     "output_type": "execute_result"
    }
   ],
   "source": [
    "closest = np.inf\n",
    "x = 0\n",
    "for i in range(len(li)):\n",
    "    dist = (li[i][0] - x_mean) ** 2 + (li[i][1] - y_mean) ** 2\n",
    "    if (dist < closest):\n",
    "        closest = dist\n",
    "        x = i\n",
    "        \n",
    "x"
   ]
  },
  {
   "cell_type": "code",
   "execution_count": 47,
   "metadata": {},
   "outputs": [
    {
     "data": {
      "text/plain": [
       "<matplotlib.image.AxesImage at 0x11e0e9940>"
      ]
     },
     "execution_count": 47,
     "metadata": {},
     "output_type": "execute_result"
    },
    {
     "data": {
      "image/png": "[encoded data removed]",
      "text/plain": [
       "<Figure size 432x288 with 1 Axes>"
      ]
     },
     "metadata": {},
     "output_type": "display_data"
    }
   ],
   "source": [
    "plt.imshow(image_vectors[x].reshape((28,28)), cmap='gray')"
   ]
  },
  {
   "cell_type": "code",
   "execution_count": null,
   "metadata": {},
   "outputs": [],
   "source": [
    "# step 1: compute mean coat t-SNE vector\n",
    "coat_mask = (labels == 4)\n",
    "coat_mean_tsne_vector = tsne_vectors[coat_mask].mean(axis=0)"
   ]
  },
  {
   "cell_type": "code",
   "execution_count": 40,
   "metadata": {},
   "outputs": [
    {
     "data": {
      "text/plain": [
       "array([0.        , 0.        , 0.        , 0.        , 0.        ,\n",
       "       0.        , 0.        , 0.        , 0.        , 0.05098039,\n",
       "       0.31372549, 0.49411765, 0.65882353, 0.69411765, 0.67843137,\n",
       "       0.65098039, 0.58039216, 0.38431373, 0.        , 0.        ,\n",
       "       0.        , 0.        , 0.        , 0.        , 0.        ,\n",
       "       0.        , 0.        , 0.        , 0.        , 0.        ,\n",
       "       0.        , 0.        , 0.        , 0.        , 0.00392157,\n",
       "       0.        , 0.        , 1.        , 0.70588235, 0.65490196,\n",
       "       0.64313725, 0.7372549 , 0.83529412, 0.76078431, 0.70196078,\n",
       "       0.71764706, 0.81568627, 0.15294118, 0.        , 0.00392157,\n",
       "       0.        , 0.        , 0.        , 0.        , 0.        ,\n",
       "       0.        , 0.        , 0.        , 0.        , 0.        ,\n",
       "       0.        , 0.00392157, 0.        , 0.        , 0.29019608,\n",
       "       0.81568627, 0.59215686, 0.6627451 , 0.85098039, 0.67843137,\n",
       "       0.63137255, 0.78039216, 0.54509804, 0.48235294, 0.81960784,\n",
       "       0.29019608, 0.        , 0.        , 0.        , 0.        ,\n",
       "       0.        , 0.        , 0.        , 0.        , 0.        ,\n",
       "       0.        , 0.        , 0.        , 0.00392157, 0.        ,\n",
       "       0.        , 0.43137255, 0.67843137, 0.69019608, 0.71372549,\n",
       "       0.70980392, 0.85490196, 0.57647059, 0.40392157, 0.7372549 ,\n",
       "       0.8       , 0.77647059, 0.81176471, 0.6       , 0.08627451,\n",
       "       0.        , 0.        , 0.        , 0.        , 0.        ,\n",
       "       0.        , 0.        , 0.        , 0.        , 0.        ,\n",
       "       0.        , 0.        , 0.        , 0.45882353, 0.7254902 ,\n",
       "       0.6       , 0.55686275, 0.56862745, 0.59215686, 0.57647059,\n",
       "       0.70196078, 0.70588235, 0.63529412, 0.64313725, 0.63137255,\n",
       "       0.61176471, 0.65098039, 0.70980392, 0.18431373, 0.        ,\n",
       "       0.        , 0.        , 0.        , 0.        , 0.        ,\n",
       "       0.        , 0.        , 0.        , 0.        , 0.        ,\n",
       "       0.        , 0.65882353, 0.6627451 , 0.58039216, 0.60784314,\n",
       "       0.61176471, 0.60392157, 0.60784314, 0.56470588, 0.56078431,\n",
       "       0.60784314, 0.59215686, 0.60784314, 0.60392157, 0.60392157,\n",
       "       0.70588235, 0.56078431, 0.        , 0.        , 0.        ,\n",
       "       0.        , 0.        , 0.        , 0.        , 0.        ,\n",
       "       0.        , 0.        , 0.        , 0.12941176, 0.71764706,\n",
       "       0.66666667, 0.56078431, 0.60784314, 0.6       , 0.58823529,\n",
       "       0.58823529, 0.58431373, 0.56862745, 0.6       , 0.59215686,\n",
       "       0.58823529, 0.58039216, 0.61176471, 0.70588235, 0.68235294,\n",
       "       0.01568627, 0.        , 0.        , 0.        , 0.        ,\n",
       "       0.        , 0.        , 0.        , 0.        , 0.        ,\n",
       "       0.        , 0.30980392, 0.71764706, 0.66666667, 0.58039216,\n",
       "       0.6       , 0.61960784, 0.6       , 0.58039216, 0.57647059,\n",
       "       0.57647059, 0.56862745, 0.59215686, 0.59215686, 0.56862745,\n",
       "       0.60392157, 0.67843137, 0.71372549, 0.20392157, 0.        ,\n",
       "       0.        , 0.        , 0.        , 0.        , 0.        ,\n",
       "       0.        , 0.        , 0.        , 0.        , 0.50980392,\n",
       "       0.70980392, 0.67058824, 0.58823529, 0.59215686, 0.64313725,\n",
       "       0.61960784, 0.59215686, 0.58823529, 0.59215686, 0.58039216,\n",
       "       0.60784314, 0.61176471, 0.61176471, 0.65098039, 0.67058824,\n",
       "       0.70196078, 0.36862745, 0.        , 0.        , 0.        ,\n",
       "       0.        , 0.        , 0.        , 0.        , 0.        ,\n",
       "       0.        , 0.        , 0.62745098, 0.68627451, 0.67058824,\n",
       "       0.58823529, 0.58431373, 0.61568627, 0.60392157, 0.58823529,\n",
       "       0.58431373, 0.58823529, 0.60392157, 0.58823529, 0.68235294,\n",
       "       0.50588235, 0.45490196, 0.69019608, 0.69019608, 0.49019608,\n",
       "       0.        , 0.        , 0.        , 0.        , 0.        ,\n",
       "       0.        , 0.        , 0.        , 0.        , 0.        ,\n",
       "       0.71764706, 0.6627451 , 0.68627451, 0.58823529, 0.58823529,\n",
       "       0.61176471, 0.60392157, 0.59215686, 0.58823529, 0.59215686,\n",
       "       0.59215686, 0.6       , 0.65490196, 0.54509804, 0.5254902 ,\n",
       "       0.69411765, 0.69019608, 0.59215686, 0.        , 0.        ,\n",
       "       0.        , 0.        , 0.        , 0.        , 0.        ,\n",
       "       0.        , 0.        , 0.        , 0.6627451 , 0.64313725,\n",
       "       0.70196078, 0.58823529, 0.59215686, 0.60392157, 0.60392157,\n",
       "       0.6       , 0.6       , 0.59215686, 0.58431373, 0.58431373,\n",
       "       0.62745098, 0.61568627, 0.65490196, 0.67058824, 0.68627451,\n",
       "       0.65098039, 0.        , 0.        , 0.        , 0.        ,\n",
       "       0.        , 0.        , 0.        , 0.        , 0.        ,\n",
       "       0.00392157, 0.69019608, 0.63137255, 0.69411765, 0.59215686,\n",
       "       0.58823529, 0.60392157, 0.60392157, 0.6       , 0.59215686,\n",
       "       0.6       , 0.60784314, 0.61176471, 0.61568627, 0.60392157,\n",
       "       0.61568627, 0.67058824, 0.68235294, 0.69411765, 0.        ,\n",
       "       0.        , 0.        , 0.        , 0.        , 0.        ,\n",
       "       0.        , 0.        , 0.        , 0.05098039, 0.83921569,\n",
       "       0.62745098, 0.7254902 , 0.59215686, 0.58823529, 0.61176471,\n",
       "       0.61568627, 0.61960784, 0.6       , 0.59215686, 0.60784314,\n",
       "       0.61960784, 0.63137255, 0.61568627, 0.63921569, 0.67058824,\n",
       "       0.6627451 , 0.75686275, 0.        , 0.        , 0.        ,\n",
       "       0.        , 0.        , 0.        , 0.        , 0.        ,\n",
       "       0.        , 0.1372549 , 0.83921569, 0.61568627, 0.7254902 ,\n",
       "       0.59215686, 0.58823529, 0.60392157, 0.61960784, 0.63137255,\n",
       "       0.61568627, 0.61176471, 0.60784314, 0.60392157, 0.6       ,\n",
       "       0.58823529, 0.61176471, 0.68627451, 0.65490196, 0.78823529,\n",
       "       0.        , 0.        , 0.        , 0.        , 0.        ,\n",
       "       0.        , 0.        , 0.        , 0.        , 0.22745098,\n",
       "       0.84313725, 0.61568627, 0.7372549 , 0.58823529, 0.60392157,\n",
       "       0.61176471, 0.61960784, 0.63137255, 0.61176471, 0.60784314,\n",
       "       0.61176471, 0.60784314, 0.60784314, 0.6       , 0.61960784,\n",
       "       0.70196078, 0.6627451 , 0.81568627, 0.03137255, 0.        ,\n",
       "       0.        , 0.        , 0.        , 0.        , 0.        ,\n",
       "       0.        , 0.        , 0.28627451, 0.83529412, 0.61960784,\n",
       "       0.76470588, 0.58431373, 0.60392157, 0.61568627, 0.61960784,\n",
       "       0.62745098, 0.61176471, 0.60784314, 0.61960784, 0.61960784,\n",
       "       0.61176471, 0.6       , 0.62745098, 0.70196078, 0.65098039,\n",
       "       0.82745098, 0.16078431, 0.        , 0.        , 0.        ,\n",
       "       0.        , 0.        , 0.        , 0.        , 0.        ,\n",
       "       0.3254902 , 0.81568627, 0.62745098, 0.79215686, 0.58039216,\n",
       "       0.60784314, 0.61176471, 0.62745098, 0.62745098, 0.61176471,\n",
       "       0.60784314, 0.61176471, 0.61960784, 0.62745098, 0.6       ,\n",
       "       0.61960784, 0.70588235, 0.65098039, 0.81568627, 0.20784314,\n",
       "       0.        , 0.        , 0.        , 0.        , 0.        ,\n",
       "       0.        , 0.        , 0.        , 0.36078431, 0.8       ,\n",
       "       0.58039216, 0.78823529, 0.58431373, 0.61960784, 0.62745098,\n",
       "       0.63529412, 0.63529412, 0.63921569, 0.63921569, 0.62745098,\n",
       "       0.62745098, 0.63137255, 0.60392157, 0.61568627, 0.70196078,\n",
       "       0.65882353, 0.81176471, 0.29019608, 0.        , 0.        ,\n",
       "       0.        , 0.        , 0.        , 0.        , 0.        ,\n",
       "       0.        , 0.38823529, 0.80392157, 0.58823529, 0.74117647,\n",
       "       0.58823529, 0.62745098, 0.63137255, 0.63529412, 0.63137255,\n",
       "       0.64313725, 0.65098039, 0.63921569, 0.63529412, 0.63921569,\n",
       "       0.61960784, 0.61568627, 0.71764706, 0.65490196, 0.81176471,\n",
       "       0.35686275, 0.        , 0.        , 0.        , 0.        ,\n",
       "       0.        , 0.        , 0.        , 0.        , 0.42745098,\n",
       "       0.79215686, 0.58823529, 0.73333333, 0.58823529, 0.62745098,\n",
       "       0.63529412, 0.63529412, 0.63137255, 0.63921569, 0.64313725,\n",
       "       0.64313725, 0.63921569, 0.65490196, 0.63529412, 0.61176471,\n",
       "       0.71372549, 0.63921569, 0.78823529, 0.38823529, 0.        ,\n",
       "       0.        , 0.        , 0.        , 0.        , 0.        ,\n",
       "       0.        , 0.        , 0.45098039, 0.76862745, 0.60392157,\n",
       "       0.76470588, 0.6       , 0.61568627, 0.63529412, 0.63921569,\n",
       "       0.63529412, 0.64313725, 0.64313725, 0.65098039, 0.65098039,\n",
       "       0.65882353, 0.64313725, 0.60392157, 0.71764706, 0.65490196,\n",
       "       0.77647059, 0.42745098, 0.        , 0.        , 0.        ,\n",
       "       0.        , 0.        , 0.        , 0.        , 0.        ,\n",
       "       0.47058824, 0.74117647, 0.61960784, 0.76470588, 0.58823529,\n",
       "       0.64313725, 0.63529412, 0.65098039, 0.65098039, 0.64313725,\n",
       "       0.65098039, 0.65882353, 0.6627451 , 0.67843137, 0.68235294,\n",
       "       0.61960784, 0.71372549, 0.65098039, 0.76078431, 0.45098039,\n",
       "       0.        , 0.        , 0.        , 0.        , 0.        ,\n",
       "       0.        , 0.        , 0.        , 0.5372549 , 0.7372549 ,\n",
       "       0.63921569, 0.72941176, 0.58431373, 0.65882353, 0.63529412,\n",
       "       0.64313725, 0.63137255, 0.62745098, 0.63529412, 0.63921569,\n",
       "       0.65098039, 0.6627451 , 0.67058824, 0.63137255, 0.74509804,\n",
       "       0.63529412, 0.76078431, 0.48627451, 0.        , 0.        ,\n",
       "       0.        , 0.        , 0.        , 0.        , 0.        ,\n",
       "       0.        , 0.6       , 0.71372549, 0.63921569, 0.7372549 ,\n",
       "       0.63137255, 0.63529412, 0.61176471, 0.61960784, 0.61176471,\n",
       "       0.61176471, 0.61568627, 0.61568627, 0.61568627, 0.62745098,\n",
       "       0.66666667, 0.67058824, 0.81176471, 0.65882353, 0.76078431,\n",
       "       0.5254902 , 0.        , 0.        , 0.        , 0.        ,\n",
       "       0.        , 0.        , 0.        , 0.        , 0.27058824,\n",
       "       0.7254902 , 0.65490196, 0.69019608, 0.68235294, 0.64313725,\n",
       "       0.63921569, 0.65098039, 0.65098039, 0.65490196, 0.65882353,\n",
       "       0.65490196, 0.65490196, 0.65098039, 0.69019608, 0.71764706,\n",
       "       0.75686275, 0.70588235, 0.72941176, 0.34509804, 0.        ,\n",
       "       0.        , 0.        , 0.        , 0.        , 0.        ,\n",
       "       0.        , 0.        , 0.16862745, 0.74117647, 0.70196078,\n",
       "       0.6       , 0.76470588, 0.80392157, 0.78431373, 0.67058824,\n",
       "       0.67843137, 0.67058824, 0.66666667, 0.80392157, 0.81568627,\n",
       "       0.80784314, 0.85882353, 0.76862745, 0.61176471, 0.74509804,\n",
       "       0.75686275, 0.30980392, 0.        , 0.        , 0.        ,\n",
       "       0.        , 0.        , 0.        , 0.        , 0.        ,\n",
       "       0.10196078, 0.69411765, 0.62745098, 0.23137255, 0.        ,\n",
       "       0.00392157, 0.        , 0.        , 0.        , 0.        ,\n",
       "       0.        , 0.        , 0.        , 0.01176471, 0.02745098,\n",
       "       0.        , 0.29019608, 0.64313725, 0.69411765, 0.21568627,\n",
       "       0.        , 0.        , 0.        , 0.        ])"
      ]
     },
     "execution_count": 40,
     "metadata": {},
     "output_type": "execute_result"
    }
   ],
   "source": [
    "arg_min"
   ]
  },
  {
   "cell_type": "code",
   "execution_count": 38,
   "metadata": {},
   "outputs": [
    {
     "data": {
      "text/plain": [
       "<matplotlib.image.AxesImage at 0x11e089c88>"
      ]
     },
     "execution_count": 38,
     "metadata": {},
     "output_type": "execute_result"
    },
    {
     "data": {
      "image/png": "[encoded data removed]",
      "text/plain": [
       "<Figure size 432x288 with 1 Axes>"
      ]
     },
     "metadata": {},
     "output_type": "display_data"
    },
    {
     "data": {
      "image/png": "[encoded data removed]",
      "text/plain": [
       "<Figure size 432x288 with 1 Axes>"
      ]
     },
     "metadata": {},
     "output_type": "display_data"
    }
   ],
   "source": [
    "# step 2: find coat that has t-SNE vector closest to the mean coat t-SNE vector\n",
    "min_dist = np.inf\n",
    "arg_min = None\n",
    "for image_vector, tsne_vector in zip(image_vectors[coat_mask],\n",
    "                                     tsne_vectors[coat_mask]):\n",
    "    dist = np.linalg.norm(tsne_vector - coat_mean_tsne_vector)\n",
    "    if dist < min_dist:\n",
    "        min_dist = dist\n",
    "        arg_min = image_vector\n",
    "plt.figure()\n",
    "plt.imshow(arg_min.reshape((28, 28)), cmap='gray')\n",
    "\n",
    "# step 3: find coat that has t-SNE vector closest to the mean coat t-SNE vector\n",
    "pullover_mask = (labels == 2)\n",
    "min_dist = np.inf\n",
    "arg_min = None\n",
    "for image_vector, tsne_vector in zip(image_vectors[pullover_mask],\n",
    "                                     tsne_vectors[pullover_mask]):\n",
    "    dist = np.linalg.norm(tsne_vector - coat_mean_tsne_vector)\n",
    "    if dist < min_dist:\n",
    "        min_dist = dist\n",
    "        arg_min = image_vector\n",
    "plt.figure()\n",
    "plt.imshow(arg_min.reshape((28, 28)), cmap='gray')"
   ]
  },
  {
   "cell_type": "code",
   "execution_count": 48,
   "metadata": {},
   "outputs": [
    {
     "name": "stdout",
     "output_type": "stream",
     "text": [
      "-7.679827477983249 37.34418884079943\n"
     ]
    },
    {
     "data": {
      "text/plain": [
       "<matplotlib.image.AxesImage at 0x11e1297b8>"
      ]
     },
     "execution_count": 48,
     "metadata": {},
     "output_type": "execute_result"
    },
    {
     "data": {
      "image/png": "[encoded data removed]",
      "text/plain": [
       "<Figure size 432x288 with 1 Axes>"
      ]
     },
     "metadata": {},
     "output_type": "display_data"
    }
   ],
   "source": [
    "li = []\n",
    "for i in range(len(labels)):\n",
    "    if (labels[i] == 2):\n",
    "        li.append(tsne_vectors[i])\n",
    "x_sum = 0\n",
    "y_sum = 0\n",
    "for i in range(len(li)):\n",
    "    x_sum += li[i][0]\n",
    "    y_sum += li[i][1]\n",
    "\n",
    "x_mean = x_sum / len(li)\n",
    "y_mean = y_sum / len(li)\n",
    "\n",
    "print(x_mean, y_mean)\n",
    "\n",
    "closest = np.iinfo(np.intp).max\n",
    "x = 0\n",
    "for i in range(len(li)):\n",
    "    dist = (li[i][0] - x_mean) ** 2 + (li[i][1] - y_mean) ** 2\n",
    "    if (dist < closest):\n",
    "        closest = dist\n",
    "        x = i\n",
    "        \n",
    "plt.imshow(image_vectors[x].reshape((28,28)), cmap='gray')\n"
   ]
  },
  {
   "cell_type": "markdown",
   "metadata": {},
   "source": [
    "What do you notice from your images for steps 2 and 3 above?"
   ]
  },
  {
   "cell_type": "markdown",
   "metadata": {},
   "source": [
    "**Your answer here (no code is needed for this answer)**: WRITE YOUR ANSWER HERE"
   ]
  },
  {
   "cell_type": "markdown",
   "metadata": {},
   "source": [
    "**(d) [10 points]** In class, we talked about a simple standardization technique in which we subtract off the mean of each feature value and also divide by the standard deviation. Your friend Alice says that since the images we are looking at consist of clothing articles and fashion accessories with the same backdrop in the image, dividing each feature by the standard deviation is a bad idea for preprocessing in this setting. Is she right? Why or why not?"
   ]
  },
  {
   "cell_type": "markdown",
   "metadata": {},
   "source": [
    "**Your answer here (no code is needed for this answer)**: WRITE YOUR ANSWER HERE"
   ]
  }
 ],
 "metadata": {
  "kernelspec": {
   "display_name": "Python 3",
   "language": "python",
   "name": "python3"
  },
  "language_info": {
   "codemirror_mode": {
    "name": "ipython",
    "version": 3
   },
   "file_extension": ".py",
   "mimetype": "text/x-python",
   "name": "python",
   "nbconvert_exporter": "python",
   "pygments_lexer": "ipython3",
   "version": "3.6.6"
  }
 },
 "nbformat": 4,
 "nbformat_minor": 2
}
