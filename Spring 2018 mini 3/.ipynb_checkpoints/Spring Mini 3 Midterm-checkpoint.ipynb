{
 "cells": [
  {
   "cell_type": "markdown",
   "metadata": {},
   "source": [
    "## Problem: Visualizing and Summarizing Email Content\n",
    "\n",
    "In this problem, we will use a variety of tools to visualize and identify similarities in emails.  We will consider textual data from emails sent from employees at Enron. Enron was the sixth largest energy company in the world, before they collasped and the majority of their executives were tried for fraud after overstating the company's earnings by several hundred million dollars.  This dataset is often used by researchers who are interested in \"improving current email tools, or understanding how email is currently used\" because \"it is the only substantial collection of \"real\" email that is public\" (https://www.cs.cmu.edu/~enron/). \n",
    "\n",
    " #### Data Description:\n",
    "The format of the enron_sample.txt file is: \n",
    "\n",
    "---\n",
    "docID wordID count  \n",
    "docID wordID count   \n",
    "...  \n",
    "docID wordID count   \n",
    "docID wordID count  \n",
    "\n",
    "---\n",
    "\n",
    "There are 1000 documents (emails) in this sample.  Individual document names (i.e. a identifier for each docID) are not provided for copyright reasons. \n",
    "\n",
    "The format of the enron_sample_vocab.txt file is wordID = n.  That is, if \"apple\" is the first word in the vocab file, then the wordID for \"apple\" is 0.  \n",
    "\n",
    "We have done much of the necessary pre-processing of this data to save you time.  Please run the code below to load the data.  The enron_sample.txt and enron_sample_vocab.txt files should be in the same folder as your notebook.  The pre-processing code below should take less than 30 seconds to run."
   ]
  },
  {
   "cell_type": "code",
   "execution_count": 1,
   "metadata": {},
   "outputs": [
    {
     "name": "stdout",
     "output_type": "stream",
     "text": [
      "CPU times: user 762 ms, sys: 309 ms, total: 1.07 s\n",
      "Wall time: 1.8 s\n"
     ]
    }
   ],
   "source": [
    "%%time\n",
    "#Import and pre-process the data\n",
    "import numpy as np\n",
    "%matplotlib inline\n",
    "import matplotlib.pyplot as plt\n",
    "plt.style.use('ggplot')\n",
    "\n",
    "#Read in the sparse matrix representation of the document-word count matrix\n",
    "enron_file = open(\"enron_sample.txt\", \"r\") \n",
    "enron_file = enron_file.readlines()\n",
    "\n",
    "all_doc_ids = []\n",
    "all_word_ids = []\n",
    "all_counts = []\n",
    "for l in range(0,len(enron_file)):\n",
    "    l_text = enron_file[l].rstrip()\n",
    "    [l_doc, l_word, l_count] = l_text.split(\",\")\n",
    "    l_doc = int(l_doc) \n",
    "    l_word = int(l_word) \n",
    "    all_doc_ids.append(l_doc)\n",
    "    all_word_ids.append(l_word)\n",
    "    all_counts.append(int(l_count))\n",
    "row = np.array(all_doc_ids)\n",
    "col = np.array(all_word_ids)\n",
    "counts = np.array(all_counts)  \n",
    "\n",
    "num_documents = len(set(all_doc_ids))\n",
    "num_words = len(set(all_word_ids))\n",
    "\n",
    "#Convert to a dense document-word count matrix where the (ith, jth) entry gives the count of the jth word in the ith document\n",
    "import scipy.sparse\n",
    "X = scipy.sparse.csc_matrix((counts, (row,col)),shape=(num_documents,num_words))\n",
    "X_dense = X.todense()\n",
    "\n",
    "#Read in the word names  \n",
    "word_names = open(\"enron_vocab_sample.txt\", \"r\")\n",
    "word_names = word_names.readlines()\n",
    "word_names = [word_names[x] for x in range(0,num_words)]\n",
    "word_names = [x.rstrip() for x in word_names]"
   ]
  },
  {
   "cell_type": "markdown",
   "metadata": {},
   "source": [
    "### Part A \n",
    "Please report the 10 most common words in the corpus.  To do this, count the number of times\n",
    "each word appears in the corpus and build a frequency table. \n",
    "(In particular, use counts as the \"frequency\"--do not divide by the total number of words in the corpus.)\n",
    "Sort the table and print the top 10 most frequent words, along with their frequencies and ranks.  \n",
    "\n",
    "Hint: You do not need to load nlp for this question.  Our code for this question ran in less than 10 seconds."
   ]
  },
  {
   "cell_type": "code",
   "execution_count": 12,
   "metadata": {},
   "outputs": [],
   "source": [
    "a = X_dense.sum(axis=0).tolist()[0]"
   ]
  },
  {
   "cell_type": "code",
   "execution_count": 14,
   "metadata": {},
   "outputs": [
    {
     "name": "stdout",
     "output_type": "stream",
     "text": [
      "Rank  Word       Count\n",
      "1     company    936\n",
      "2     power      924\n",
      "3     energy     578\n",
      "4     market     571\n",
      "5     california 540\n",
      "6     business   462\n",
      "7     firm       443\n",
      "8     plan       431\n",
      "9     group      413\n",
      "10    price      411\n",
      "CPU times: user 3.47 ms, sys: 1.36 ms, total: 4.83 ms\n",
      "Wall time: 5.92 ms\n"
     ]
    }
   ],
   "source": [
    "%%time\n",
    "#Please write your code here\n",
    "indices = np.argsort(a)[::-1]    \n",
    "# same sorting code as before\n",
    "print('Rank'.ljust(5), 'Word'.ljust(10), 'Count')\n",
    "for rank, idx in enumerate(indices[:10]):\n",
    "    print(str(rank + 1).ljust(5), word_names[idx].ljust(10), a[idx])"
   ]
  },
  {
   "cell_type": "markdown",
   "metadata": {},
   "source": [
    "### Part B\n",
    "Now, use the `TfidfTransformer` class in `scikit-learn` to transform this data.  Then, use the `LatentDirichletAllocation` class in `scikit-learn` to fit 10 topics to the transformed sample data.  Use 10 max iterations, set `n_jobs=-1` to use all cores on your machine (if it helps). Please set the random_state to 95865 when running LDA. Print the top 5 words associated with each topic.  \n",
    "\n",
    "Our code ran in less than 2 minutes for this section.   "
   ]
  },
  {
   "cell_type": "code",
   "execution_count": 15,
   "metadata": {},
   "outputs": [
    {
     "name": "stdout",
     "output_type": "stream",
     "text": [
      "CPU times: user 2.3 s, sys: 1.01 s, total: 3.31 s\n",
      "Wall time: 8.5 s\n"
     ]
    }
   ],
   "source": [
    "%%time\n",
    "#Take random sample of the data\n",
    "\n",
    "\n",
    "#Create tf-idf matrix\n",
    "from sklearn.feature_extraction.text import TfidfTransformer\n",
    "\n",
    "vectorizer = TfidfTransformer()\n",
    "X_transform = vectorizer.fit_transform(X_dense) \n",
    "\n",
    "#Learn LDA model\n",
    "from sklearn.decomposition import LatentDirichletAllocation\n",
    "\n",
    "lda = LatentDirichletAllocation(n_components=10, max_iter=10, n_jobs=-1, random_state=95865)\n",
    "\n",
    "lda.fit(X_transform)"
   ]
  },
  {
   "cell_type": "code",
   "execution_count": 19,
   "metadata": {},
   "outputs": [
    {
     "name": "stdout",
     "output_type": "stream",
     "text": [
      "[0.10000002 0.10000001 0.10000001 ... 0.10000009 0.10000002 0.10000001]\n",
      "[0.10000002 0.10000001 0.10058075 ... 0.10000008 0.10000002 0.10000001]\n",
      "[0.1004537  0.10060479 0.10046582 ... 0.11414565 0.10095089 0.10022532]\n",
      "[0.10000002 0.10000001 0.10000001 ... 0.10027963 0.10000002 0.10000001]\n",
      "[0.10000002 0.10002249 0.10028471 ... 0.10000008 0.10000002 0.10000001]\n",
      "[0.10041715 0.10031689 0.10000001 ... 0.10000008 0.10217828 0.10000001]\n",
      "[0.11049133 0.10000001 0.10097317 ... 0.10000009 0.10000002 0.10000001]\n",
      "[0.10017831 0.16812746 0.26053058 ... 0.11033949 0.16711775 0.1       ]\n",
      "[0.10000002 0.10000001 0.10000001 ... 0.10000011 0.10000002 0.25668149]\n",
      "[0.10000002 0.10000001 0.10000001 ... 0.10000009 0.10000002 0.10000001]\n"
     ]
    }
   ],
   "source": [
    "for idx, topic in enumerate(lda.components_):\n",
    "    print(topic)"
   ]
  },
  {
   "cell_type": "code",
   "execution_count": 16,
   "metadata": {},
   "outputs": [
    {
     "name": "stdout",
     "output_type": "stream",
     "text": [
      "Displaying the top 5 words per topic and their probabilities within the topic...\n",
      "\n",
      "[Topic 0]\n",
      "description: 0.001596\n",
      "central: 0.001521\n",
      "detailed: 0.001507\n",
      "mtg: 0.001349\n",
      "conference_room: 0.001345\n",
      "\n",
      "[Topic 1]\n",
      "status: 0.001788\n",
      "report: 0.001553\n",
      "amount: 0.001226\n",
      "iep: 0.001047\n",
      "changed: 0.001046\n",
      "\n",
      "[Topic 2]\n",
      "meeting: 0.003240\n",
      "attached: 0.002484\n",
      "power: 0.002439\n",
      "market: 0.002264\n",
      "california: 0.001928\n",
      "\n",
      "[Topic 3]\n",
      "lynn: 0.001069\n",
      "chart: 0.000826\n",
      "tonight: 0.000780\n",
      "posted: 0.000628\n",
      "waiver: 0.000622\n",
      "\n",
      "[Topic 4]\n",
      "longhorn: 0.001589\n",
      "texas: 0.001114\n",
      "wholesale: 0.000957\n",
      "cancelled: 0.000921\n",
      "true_orange: 0.000894\n",
      "\n",
      "[Topic 5]\n",
      "fantasy: 0.001156\n",
      "roundtrip: 0.001099\n",
      "yahoo: 0.000942\n",
      "chase: 0.000879\n",
      "ref: 0.000809\n",
      "\n",
      "[Topic 6]\n",
      "daily: 0.001265\n",
      "affiliates: 0.001128\n",
      "affiliate: 0.001107\n",
      "estoppel: 0.001069\n",
      "enforceable: 0.001069\n",
      "\n",
      "[Topic 7]\n",
      "final: 0.001856\n",
      "online: 0.001682\n",
      "hourahead: 0.001472\n",
      "messages: 0.001330\n",
      "percent: 0.001163\n",
      "\n",
      "[Topic 8]\n",
      "fwd: 0.000560\n",
      "wine: 0.000559\n",
      "laura: 0.000494\n",
      "emailthis: 0.000492\n",
      "isare: 0.000492\n",
      "\n",
      "[Topic 9]\n",
      "ipayit: 0.000785\n",
      "revised: 0.000457\n",
      "ena: 0.000436\n",
      "diesel: 0.000418\n",
      "breaker: 0.000417\n",
      "\n",
      "CPU times: user 1.4 s, sys: 397 ms, total: 1.8 s\n",
      "Wall time: 6.09 s\n"
     ]
    }
   ],
   "source": [
    "#Print top words associated with each topic\n",
    "import numpy as np\n",
    "topic_word_distributions = np.array([topic_word_pseudocounts / np.sum(topic_word_pseudocounts)\n",
    "                                     for topic_word_pseudocounts in lda.components_])\n",
    "num_top_words = 5\n",
    "\n",
    "print('Displaying the top %d words per topic and their probabilities within the topic...' % num_top_words)\n",
    "print()\n",
    "\n",
    "import numpy as np\n",
    "for topic_idx in range(10):\n",
    "    print('[Topic %d]' % topic_idx)\n",
    "    sort_indices = np.argsort(topic_word_distributions[topic_idx])[::-1]\n",
    "    for rank in range(num_top_words):\n",
    "        word_idx = sort_indices[rank]\n",
    "        print('%s: %f' % (word_names[word_idx], topic_word_distributions[topic_idx, word_idx]))\n",
    "    print()"
   ]
  },
  {
   "cell_type": "markdown",
   "metadata": {},
   "source": [
    "### Part C \n",
    "Please write a few sentences to interpret the results of your topic modeling.  What do the various clusters seem to represent? \n",
    "Do they appear to be meaningful email categories for an energy company?"
   ]
  },
  {
   "cell_type": "markdown",
   "metadata": {},
   "source": [
    "#### Here, please write your interpretation:\n"
   ]
  },
  {
   "cell_type": "markdown",
   "metadata": {},
   "source": [
    "### Part D \n",
    "Please use t-SNE and the probability distribution of documents over topics to find a 2-D representation of the email documents. \n",
    "That is, please run t-SNE on the documents' distributions over topics, which is an output of your LDA model. When running t-SNE, set the angle to 0.5, the learning rate to 800, and init to 'PCA'.\n",
    "\n",
    "Our code ran in less than 30 seconds for this section."
   ]
  },
  {
   "cell_type": "code",
   "execution_count": 21,
   "metadata": {},
   "outputs": [
    {
     "name": "stdout",
     "output_type": "stream",
     "text": [
      "CPU times: user 6.44 s, sys: 624 ms, total: 7.07 s\n",
      "Wall time: 9.6 s\n"
     ]
    }
   ],
   "source": [
    "%%time\n",
    "#Find 2D represenation of the email documents\n",
    "x_dis = lda.transform(X_transform)\n",
    "from sklearn.manifold import TSNE\n",
    "\n",
    "tsne = TSNE(n_components=2, angle=0.5,learning_rate=800, init='pca', random_state=95865)\n",
    "x_2d_tsne = tsne.fit_transform(x_dis)\n"
   ]
  },
  {
   "cell_type": "code",
   "execution_count": 26,
   "metadata": {},
   "outputs": [
    {
     "data": {
      "text/plain": [
       "<matplotlib.collections.PathCollection at 0x1a2296b400>"
      ]
     },
     "execution_count": 26,
     "metadata": {},
     "output_type": "execute_result"
    },
    {
     "data": {
      "image/png": "[encoded data removed]",
      "text/plain": [
       "<Figure size 432x288 with 1 Axes>"
      ]
     },
     "metadata": {},
     "output_type": "display_data"
    }
   ],
   "source": [
    "plt.scatter(x_2d_tsne[:,0], x_2d_tsne[:,1])"
   ]
  },
  {
   "cell_type": "markdown",
   "metadata": {},
   "source": [
    "### Part E \n",
    "Use DP means to pick the number of clusters in your 2-D representation, assuming that you are only interested in clusters with probability of at least .05. Set the number of mixture components to 20, the weight concentration prior to .1, n_init to 200, and the random state to 95865.  Please print the sorted probability weights you find.\n",
    "\n",
    "Our code for this section ran in less than 2 minutes."
   ]
  },
  {
   "cell_type": "code",
   "execution_count": 23,
   "metadata": {},
   "outputs": [
    {
     "name": "stdout",
     "output_type": "stream",
     "text": [
      "[1.81293002e-01 1.12877589e-01 1.09762923e-01 1.07581838e-01\n",
      " 1.05440240e-01 1.03622419e-01 9.13316734e-02 7.69298391e-02\n",
      " 7.01150760e-02 4.09492410e-02 8.74180952e-05 7.94709403e-06\n",
      " 7.22463094e-07 6.56784631e-08 5.97076937e-09 5.42797216e-10\n",
      " 4.93452014e-11 4.48592740e-12 4.07811582e-13 3.70737802e-14]\n",
      "CPU times: user 23.1 s, sys: 172 ms, total: 23.3 s\n",
      "Wall time: 23.6 s\n"
     ]
    }
   ],
   "source": [
    "%%time\n",
    "#Determine the number of clusters using DP-Means\n",
    "from sklearn.mixture import BayesianGaussianMixture\n",
    "\n",
    "dpgmm = BayesianGaussianMixture(n_components=20, weight_concentration_prior=.1, n_init=200, random_state=95865)\n",
    "dpgmm.fit(x_2d_tsne)\n",
    "\n",
    "print(np.sort(dpgmm.weights_)[::-1])"
   ]
  },
  {
   "cell_type": "markdown",
   "metadata": {},
   "source": [
    "#### Here, please write your choice for the number of clusters given your DP-Means results: 9 clusters\n"
   ]
  },
  {
   "cell_type": "markdown",
   "metadata": {},
   "source": [
    "### Part F \n",
    "Fit a GMM model with the number of clusters found in part E and visualize the clustering results in a scatter plot. Each document should be represented by its 2-D t-SNE representation and should be color coded according to it's clustering assignment. When running your GMM, set n_init to 200, and the random_state to 95865.\n",
    "\n",
    "Our code for this section ran in less than 10 seconds."
   ]
  },
  {
   "cell_type": "code",
   "execution_count": 24,
   "metadata": {},
   "outputs": [
    {
     "name": "stdout",
     "output_type": "stream",
     "text": [
      "[0.18402172 0.12       0.112      0.108      0.10694239 0.1049997\n",
      " 0.103      0.091      0.07003619]\n",
      "CPU times: user 8.56 s, sys: 63.6 ms, total: 8.63 s\n",
      "Wall time: 8.71 s\n"
     ]
    },
    {
     "data": {
      "image/png": "[encoded data removed]",
      "text/plain": [
       "<Figure size 432x288 with 1 Axes>"
      ]
     },
     "metadata": {},
     "output_type": "display_data"
    }
   ],
   "source": [
    "%%time\n",
    "#Fitting GMM with Number of Clusters Determined By DP-Means\n",
    "from sklearn.mixture import GaussianMixture\n",
    "\n",
    "gmm = GaussianMixture(n_components=9, n_init=200, random_state=95865)\n",
    "gmm.fit(x_2d_tsne)\n",
    "\n",
    "print(np.sort(gmm.weights_)[::-1])\n",
    "\n",
    "gmm_cluster_assignments = gmm.predict(x_2d_tsne)\n",
    "plt.scatter(x_2d_tsne[:, 0], x_2d_tsne[:, 1], c=gmm_cluster_assignments, cmap='Set3')\n",
    "plt.axis('equal')"
   ]
  },
  {
   "cell_type": "markdown",
   "metadata": {},
   "source": [
    "### Part G\n",
    "Now use sklearn's built-in CH-index function to pick the number of clusters.  To do this you should load metrics from `sklearn` and then use the `calinski_harabaz_score` function.  For more details on this function see: http://scikit-learn.org/stable/modules/generated/sklearn.metrics.calinski_harabaz_score.html \n",
    "\n",
    "You should use a for loop to run k-means for values of k = [2, 5, 10, 20, 30] over your 2-D t-SNE representation of the data.  When running k-means, set n_init to 1000 and random_state to 95865. Please record the CH-index for each k, and plot the results.  Indicate if you would select k to be 2, 5, 10, 20 or 30 given these results. \n",
    "\n",
    "Our code for this section ran in under 1 minute 15 seconds."
   ]
  },
  {
   "cell_type": "code",
   "execution_count": null,
   "metadata": {},
   "outputs": [],
   "source": [
    "%%time\n",
    "#Determine Number of Clusters with k-means and CH-Index\n",
    "from sklearn.metrics import calinski_harabaz_score\n",
    "from sklearn.cluster import KMeans\n",
    "\n",
    "best_score = -np.inf\n",
    "best_k = None\n",
    "best_model = None\n",
    "best_cluster_assignments = None\n",
    "kidx = [2,5,10,20,30]\n",
    "scores = []\n",
    "for k in kidx:\n",
    "    candidate_gmm = KMeans(n_clusters=k, n_init=1000, random_state=95865)\n",
    "    candidate_gmm.fit(x_2d_tsne)\n",
    "    cluster_assignments = candidate_gmm.predict(x_2d_tsne)\n",
    "    score = calinski_harabaz_score(x_2d_tsne, cluster_assignments)\n",
    "    \n",
    "    print('k =', k, 'has CH index', score)\n",
    "    \n",
    "    scores.append(score)\n",
    "    \n",
    "print('Best k within 2, 3, ..., 10 according to CH index:', best_k)"
   ]
  },
  {
   "cell_type": "code",
   "execution_count": 28,
   "metadata": {},
   "outputs": [
    {
     "data": {
      "text/plain": [
       "[<matplotlib.lines.Line2D at 0x1a1d16fb00>]"
      ]
     },
     "execution_count": 28,
     "metadata": {},
     "output_type": "execute_result"
    },
    {
     "data": {
      "image/png": "[encoded data removed]",
      "text/plain": [
       "<Figure size 432x288 with 1 Axes>"
      ]
     },
     "metadata": {},
     "output_type": "display_data"
    }
   ],
   "source": [
    "plt.plot(kidx, scores)"
   ]
  },
  {
   "cell_type": "markdown",
   "metadata": {},
   "source": [
    "#### Here, please write your choice for the number of clusters based on your analysis using k-means and the CH-Index:\n"
   ]
  },
  {
   "cell_type": "markdown",
   "metadata": {},
   "source": [
    "### Part H\n",
    "Fit k-means with the number of clusters found in part E and visualize the clustering results in a scatter plot. \n",
    "Each document should be represented by its 2-D t-SNE representation and should be color coded according to it's clustering assignment.\n",
    "\n",
    "Then, write a few sentences explaining your results from part G and from this clustering visualization.  Are the clusters found by k-means good? Why might you have gotten these results?  "
   ]
  },
  {
   "cell_type": "code",
   "execution_count": 30,
   "metadata": {},
   "outputs": [
    {
     "name": "stdout",
     "output_type": "stream",
     "text": [
      "CPU times: user 16 s, sys: 114 ms, total: 16.1 s\n",
      "Wall time: 16.5 s\n"
     ]
    },
    {
     "data": {
      "image/png": "[encoded data removed]",
      "text/plain": [
       "<Figure size 432x288 with 1 Axes>"
      ]
     },
     "metadata": {},
     "output_type": "display_data"
    }
   ],
   "source": [
    "%%time\n",
    "#Please write your code here\n",
    "candidate_gmm = KMeans(n_clusters=30, n_init=1000, random_state=95865)\n",
    "candidate_gmm.fit(x_2d_tsne)\n",
    "cluster_assignments = candidate_gmm.predict(x_2d_tsne)\n",
    "plt.scatter(x_2d_tsne[:, 0], x_2d_tsne[:, 1],\n",
    "            c=cluster_assignments, cmap='Spectral')"
   ]
  },
  {
   "cell_type": "markdown",
   "metadata": {},
   "source": [
    "#### Here, please write a few sentences to explain your results:\n"
   ]
  }
 ],
 "metadata": {
  "kernelspec": {
   "display_name": "Python 3",
   "language": "python",
   "name": "python3"
  },
  "language_info": {
   "codemirror_mode": {
    "name": "ipython",
    "version": 3
   },
   "file_extension": ".py",
   "mimetype": "text/x-python",
   "name": "python",
   "nbconvert_exporter": "python",
   "pygments_lexer": "ipython3",
   "version": "3.6.6"
  }
 },
 "nbformat": 4,
 "nbformat_minor": 1
}
